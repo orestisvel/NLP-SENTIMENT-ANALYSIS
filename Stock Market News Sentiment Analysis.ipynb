{
  "cells": [
    {
      "cell_type": "markdown",
      "source": [
        "**Welcome to my Stock Market News Sentiment Analysis Project**\n",
        "\n",
        "In this project, we perform sentiment analysis on a dataset related to stock market news, sourced from Kaggle, athis could  (https://www.kaggle.com/datasets/veer1516/finanical-sentiment-analysis?select=stock_data_precise.csv). The dataset contains two columns: one with text data and another with corresponding sentiment labels. Using natural language processing (NLP) techniques, we preprocess the data to make it suitable for machine learning models.\n",
        "\n",
        "The primary goal of this project is to develop a model capable of accurately predicting whether a given stock market news headline conveys a positive or negative sentiment, based on the training data."
      ],
      "metadata": {
        "id": "Tzlp5Ovoho0S"
      }
    },
    {
      "cell_type": "code",
      "source": [
        "#We import some necessary libraries\n",
        "import pandas as pd\n",
        "import matplotlib.pyplot as plt\n",
        "import seaborn as sns\n",
        "import numpy as np\n",
        "import random\n",
        "import nltk\n",
        "import sklearn"
      ],
      "metadata": {
        "id": "r0H4YclwBm1y"
      },
      "execution_count": 7,
      "outputs": []
    },
    {
      "cell_type": "code",
      "execution_count": 8,
      "metadata": {
        "id": "WXXnthGG_X4H"
      },
      "outputs": [],
      "source": [
        "df=pd.read_csv('stock_data_precise.csv')"
      ]
    },
    {
      "cell_type": "code",
      "execution_count": 9,
      "metadata": {
        "colab": {
          "base_uri": "https://localhost:8080/",
          "height": 206
        },
        "id": "bsHKKMp1_exA",
        "outputId": "158d468a-1daf-4fb3-b509-61903c903c81"
      },
      "outputs": [
        {
          "output_type": "execute_result",
          "data": {
            "text/plain": [
              "                                       Text Sentiment\n",
              "0              Apple reports record profits  positive\n",
              "1           Netflix subscriber growth slows  negative\n",
              "2                Tesla's stock price surges  positive\n",
              "3   Amazon's cloud computing business grows  positive\n",
              "4  Facebook's advertising revenue increases  positive"
            ],
            "text/html": [
              "\n",
              "  <div id=\"df-f235c040-7015-49dd-bd2f-ccac3d887c9b\" class=\"colab-df-container\">\n",
              "    <div>\n",
              "<style scoped>\n",
              "    .dataframe tbody tr th:only-of-type {\n",
              "        vertical-align: middle;\n",
              "    }\n",
              "\n",
              "    .dataframe tbody tr th {\n",
              "        vertical-align: top;\n",
              "    }\n",
              "\n",
              "    .dataframe thead th {\n",
              "        text-align: right;\n",
              "    }\n",
              "</style>\n",
              "<table border=\"1\" class=\"dataframe\">\n",
              "  <thead>\n",
              "    <tr style=\"text-align: right;\">\n",
              "      <th></th>\n",
              "      <th>Text</th>\n",
              "      <th>Sentiment</th>\n",
              "    </tr>\n",
              "  </thead>\n",
              "  <tbody>\n",
              "    <tr>\n",
              "      <th>0</th>\n",
              "      <td>Apple reports record profits</td>\n",
              "      <td>positive</td>\n",
              "    </tr>\n",
              "    <tr>\n",
              "      <th>1</th>\n",
              "      <td>Netflix subscriber growth slows</td>\n",
              "      <td>negative</td>\n",
              "    </tr>\n",
              "    <tr>\n",
              "      <th>2</th>\n",
              "      <td>Tesla's stock price surges</td>\n",
              "      <td>positive</td>\n",
              "    </tr>\n",
              "    <tr>\n",
              "      <th>3</th>\n",
              "      <td>Amazon's cloud computing business grows</td>\n",
              "      <td>positive</td>\n",
              "    </tr>\n",
              "    <tr>\n",
              "      <th>4</th>\n",
              "      <td>Facebook's advertising revenue increases</td>\n",
              "      <td>positive</td>\n",
              "    </tr>\n",
              "  </tbody>\n",
              "</table>\n",
              "</div>\n",
              "    <div class=\"colab-df-buttons\">\n",
              "\n",
              "  <div class=\"colab-df-container\">\n",
              "    <button class=\"colab-df-convert\" onclick=\"convertToInteractive('df-f235c040-7015-49dd-bd2f-ccac3d887c9b')\"\n",
              "            title=\"Convert this dataframe to an interactive table.\"\n",
              "            style=\"display:none;\">\n",
              "\n",
              "  <svg xmlns=\"http://www.w3.org/2000/svg\" height=\"24px\" viewBox=\"0 -960 960 960\">\n",
              "    <path d=\"M120-120v-720h720v720H120Zm60-500h600v-160H180v160Zm220 220h160v-160H400v160Zm0 220h160v-160H400v160ZM180-400h160v-160H180v160Zm440 0h160v-160H620v160ZM180-180h160v-160H180v160Zm440 0h160v-160H620v160Z\"/>\n",
              "  </svg>\n",
              "    </button>\n",
              "\n",
              "  <style>\n",
              "    .colab-df-container {\n",
              "      display:flex;\n",
              "      gap: 12px;\n",
              "    }\n",
              "\n",
              "    .colab-df-convert {\n",
              "      background-color: #E8F0FE;\n",
              "      border: none;\n",
              "      border-radius: 50%;\n",
              "      cursor: pointer;\n",
              "      display: none;\n",
              "      fill: #1967D2;\n",
              "      height: 32px;\n",
              "      padding: 0 0 0 0;\n",
              "      width: 32px;\n",
              "    }\n",
              "\n",
              "    .colab-df-convert:hover {\n",
              "      background-color: #E2EBFA;\n",
              "      box-shadow: 0px 1px 2px rgba(60, 64, 67, 0.3), 0px 1px 3px 1px rgba(60, 64, 67, 0.15);\n",
              "      fill: #174EA6;\n",
              "    }\n",
              "\n",
              "    .colab-df-buttons div {\n",
              "      margin-bottom: 4px;\n",
              "    }\n",
              "\n",
              "    [theme=dark] .colab-df-convert {\n",
              "      background-color: #3B4455;\n",
              "      fill: #D2E3FC;\n",
              "    }\n",
              "\n",
              "    [theme=dark] .colab-df-convert:hover {\n",
              "      background-color: #434B5C;\n",
              "      box-shadow: 0px 1px 3px 1px rgba(0, 0, 0, 0.15);\n",
              "      filter: drop-shadow(0px 1px 2px rgba(0, 0, 0, 0.3));\n",
              "      fill: #FFFFFF;\n",
              "    }\n",
              "  </style>\n",
              "\n",
              "    <script>\n",
              "      const buttonEl =\n",
              "        document.querySelector('#df-f235c040-7015-49dd-bd2f-ccac3d887c9b button.colab-df-convert');\n",
              "      buttonEl.style.display =\n",
              "        google.colab.kernel.accessAllowed ? 'block' : 'none';\n",
              "\n",
              "      async function convertToInteractive(key) {\n",
              "        const element = document.querySelector('#df-f235c040-7015-49dd-bd2f-ccac3d887c9b');\n",
              "        const dataTable =\n",
              "          await google.colab.kernel.invokeFunction('convertToInteractive',\n",
              "                                                    [key], {});\n",
              "        if (!dataTable) return;\n",
              "\n",
              "        const docLinkHtml = 'Like what you see? Visit the ' +\n",
              "          '<a target=\"_blank\" href=https://colab.research.google.com/notebooks/data_table.ipynb>data table notebook</a>'\n",
              "          + ' to learn more about interactive tables.';\n",
              "        element.innerHTML = '';\n",
              "        dataTable['output_type'] = 'display_data';\n",
              "        await google.colab.output.renderOutput(dataTable, element);\n",
              "        const docLink = document.createElement('div');\n",
              "        docLink.innerHTML = docLinkHtml;\n",
              "        element.appendChild(docLink);\n",
              "      }\n",
              "    </script>\n",
              "  </div>\n",
              "\n",
              "\n",
              "<div id=\"df-1ebd696e-96e5-4cdb-9930-119bebad5bb1\">\n",
              "  <button class=\"colab-df-quickchart\" onclick=\"quickchart('df-1ebd696e-96e5-4cdb-9930-119bebad5bb1')\"\n",
              "            title=\"Suggest charts\"\n",
              "            style=\"display:none;\">\n",
              "\n",
              "<svg xmlns=\"http://www.w3.org/2000/svg\" height=\"24px\"viewBox=\"0 0 24 24\"\n",
              "     width=\"24px\">\n",
              "    <g>\n",
              "        <path d=\"M19 3H5c-1.1 0-2 .9-2 2v14c0 1.1.9 2 2 2h14c1.1 0 2-.9 2-2V5c0-1.1-.9-2-2-2zM9 17H7v-7h2v7zm4 0h-2V7h2v10zm4 0h-2v-4h2v4z\"/>\n",
              "    </g>\n",
              "</svg>\n",
              "  </button>\n",
              "\n",
              "<style>\n",
              "  .colab-df-quickchart {\n",
              "      --bg-color: #E8F0FE;\n",
              "      --fill-color: #1967D2;\n",
              "      --hover-bg-color: #E2EBFA;\n",
              "      --hover-fill-color: #174EA6;\n",
              "      --disabled-fill-color: #AAA;\n",
              "      --disabled-bg-color: #DDD;\n",
              "  }\n",
              "\n",
              "  [theme=dark] .colab-df-quickchart {\n",
              "      --bg-color: #3B4455;\n",
              "      --fill-color: #D2E3FC;\n",
              "      --hover-bg-color: #434B5C;\n",
              "      --hover-fill-color: #FFFFFF;\n",
              "      --disabled-bg-color: #3B4455;\n",
              "      --disabled-fill-color: #666;\n",
              "  }\n",
              "\n",
              "  .colab-df-quickchart {\n",
              "    background-color: var(--bg-color);\n",
              "    border: none;\n",
              "    border-radius: 50%;\n",
              "    cursor: pointer;\n",
              "    display: none;\n",
              "    fill: var(--fill-color);\n",
              "    height: 32px;\n",
              "    padding: 0;\n",
              "    width: 32px;\n",
              "  }\n",
              "\n",
              "  .colab-df-quickchart:hover {\n",
              "    background-color: var(--hover-bg-color);\n",
              "    box-shadow: 0 1px 2px rgba(60, 64, 67, 0.3), 0 1px 3px 1px rgba(60, 64, 67, 0.15);\n",
              "    fill: var(--button-hover-fill-color);\n",
              "  }\n",
              "\n",
              "  .colab-df-quickchart-complete:disabled,\n",
              "  .colab-df-quickchart-complete:disabled:hover {\n",
              "    background-color: var(--disabled-bg-color);\n",
              "    fill: var(--disabled-fill-color);\n",
              "    box-shadow: none;\n",
              "  }\n",
              "\n",
              "  .colab-df-spinner {\n",
              "    border: 2px solid var(--fill-color);\n",
              "    border-color: transparent;\n",
              "    border-bottom-color: var(--fill-color);\n",
              "    animation:\n",
              "      spin 1s steps(1) infinite;\n",
              "  }\n",
              "\n",
              "  @keyframes spin {\n",
              "    0% {\n",
              "      border-color: transparent;\n",
              "      border-bottom-color: var(--fill-color);\n",
              "      border-left-color: var(--fill-color);\n",
              "    }\n",
              "    20% {\n",
              "      border-color: transparent;\n",
              "      border-left-color: var(--fill-color);\n",
              "      border-top-color: var(--fill-color);\n",
              "    }\n",
              "    30% {\n",
              "      border-color: transparent;\n",
              "      border-left-color: var(--fill-color);\n",
              "      border-top-color: var(--fill-color);\n",
              "      border-right-color: var(--fill-color);\n",
              "    }\n",
              "    40% {\n",
              "      border-color: transparent;\n",
              "      border-right-color: var(--fill-color);\n",
              "      border-top-color: var(--fill-color);\n",
              "    }\n",
              "    60% {\n",
              "      border-color: transparent;\n",
              "      border-right-color: var(--fill-color);\n",
              "    }\n",
              "    80% {\n",
              "      border-color: transparent;\n",
              "      border-right-color: var(--fill-color);\n",
              "      border-bottom-color: var(--fill-color);\n",
              "    }\n",
              "    90% {\n",
              "      border-color: transparent;\n",
              "      border-bottom-color: var(--fill-color);\n",
              "    }\n",
              "  }\n",
              "</style>\n",
              "\n",
              "  <script>\n",
              "    async function quickchart(key) {\n",
              "      const quickchartButtonEl =\n",
              "        document.querySelector('#' + key + ' button');\n",
              "      quickchartButtonEl.disabled = true;  // To prevent multiple clicks.\n",
              "      quickchartButtonEl.classList.add('colab-df-spinner');\n",
              "      try {\n",
              "        const charts = await google.colab.kernel.invokeFunction(\n",
              "            'suggestCharts', [key], {});\n",
              "      } catch (error) {\n",
              "        console.error('Error during call to suggestCharts:', error);\n",
              "      }\n",
              "      quickchartButtonEl.classList.remove('colab-df-spinner');\n",
              "      quickchartButtonEl.classList.add('colab-df-quickchart-complete');\n",
              "    }\n",
              "    (() => {\n",
              "      let quickchartButtonEl =\n",
              "        document.querySelector('#df-1ebd696e-96e5-4cdb-9930-119bebad5bb1 button');\n",
              "      quickchartButtonEl.style.display =\n",
              "        google.colab.kernel.accessAllowed ? 'block' : 'none';\n",
              "    })();\n",
              "  </script>\n",
              "</div>\n",
              "\n",
              "    </div>\n",
              "  </div>\n"
            ],
            "application/vnd.google.colaboratory.intrinsic+json": {
              "type": "dataframe",
              "variable_name": "df",
              "summary": "{\n  \"name\": \"df\",\n  \"rows\": 50233,\n  \"fields\": [\n    {\n      \"column\": \"Text\",\n      \"properties\": {\n        \"dtype\": \"string\",\n        \"num_unique_values\": 49776,\n        \"samples\": [\n          \"I have a lot of time for all the Columbo films, but this one in particular was extremely well written, and the solution at the end very effective. However, my main memory of this one is the opening of a scene in the middle of the film, between Columbo and the murderer (I apologise if I've not remembered every detail of this exactly). It's the most striking image of Columbo I've seen: the view is from inside the darkness of the cupboard where the victim was murdered, and into the room beyond, which is lit up by daylight. Columbo is sitting in a high-backed armchair facing the doorway (and us), contemplating the cupboard, and almost in silhouette due to the contrast in light. There's no sound. The camera slowly moves out of the room and up towards him. He's deep in meditation, puffing gently on a cigar, swirls of smoke from the cigar circling slowly upwards as he thinks. Then the dialogue starts. Superb.\",\n          \"This movie is terrible. Carlitos Way(1993) is a great film. Goodgfellas it isn't but its one of the better crime films done. This movie should be considered closer to THE STING Part2 or maybe speed Zone. Remember those gems! The only reason this movie was made was to capitalize on the cult following of the original. This movie lacked everything De Palma, Pacino and Penn worked so hard on. There wasn't a likable character and that is the fault of everyone responsible for making it. I hope RISE TO POWER wins every RAZZIE it possibly can and maybe even invent some new categories to allow it be a record holder. After I watched this S@*T FEST movie, I sat down and watched the original Carlitos way to get th bad taste out of my mouth. After watching this I wish Pachanga came and whacked me out of my misery.\",\n          \"Man, is it great just to see Young and The Restless star Melody Thomas Scott as something other than flighty Nikki Newman! A doctor with a brain no less! And super nice to see her with the likes of the gorgeous Lorenzo Lamas instead of Victor Newman!<br /><br />Mel plays a college professor of micro-biology who goes to the islands with her son for spring break, only to find herself a prisoner of the island infested with a rapidly spreading virus. Handy for her there is the hunky character played by Lorenzo, who has a daughter just her son's age.<br /><br />Mel shines, as does Lorenzo with a bit of the overacting from the younger couple. Interesting premise in these times of chemical and biological terrorism talk. Worthwhile seeing, especially for Y&R fans.\"\n        ],\n        \"semantic_type\": \"\",\n        \"description\": \"\"\n      }\n    },\n    {\n      \"column\": \"Sentiment\",\n      \"properties\": {\n        \"dtype\": \"category\",\n        \"num_unique_values\": 2,\n        \"samples\": [\n          \"negative\",\n          \"positive\"\n        ],\n        \"semantic_type\": \"\",\n        \"description\": \"\"\n      }\n    }\n  ]\n}"
            }
          },
          "metadata": {},
          "execution_count": 9
        }
      ],
      "source": [
        "df.head()"
      ]
    },
    {
      "cell_type": "code",
      "source": [
        "df.head(50)"
      ],
      "metadata": {
        "colab": {
          "base_uri": "https://localhost:8080/",
          "height": 1000
        },
        "id": "fggwJBQynqxH",
        "outputId": "b226b4fc-060b-47dc-8980-6daa63575792"
      },
      "execution_count": 73,
      "outputs": [
        {
          "output_type": "execute_result",
          "data": {
            "text/plain": [
              "                                             Sentence Sentiment  text_length\n",
              "0   A not bad but also not so great heist film. Ki...  negative          962\n",
              "1   I saw this recent Woody Allen film because I'm...  negative         1311\n",
              "2   Veteran British television director Alan Gibso...  negative         3959\n",
              "3   If you enjoy seeing what must have started as ...  negative          580\n",
              "4   This low-budget film about a writer who goes t...  negative          939\n",
              "5   for those of you who were desperate to find ou...  negative         1067\n",
              "6   This wasn't funny in 1972. It's not funny now....  negative          508\n",
              "7   Leslie Nielsen is usually someone whose movies...  negative          956\n",
              "8   'You're in the Navy Now' is painfully bad: ver...  negative         1588\n",
              "9   I just finished watching Dog Watch. I thought ...  negative          659\n",
              "10  83 minutes? Nope, this thing is 72 minutes, to...  negative          329\n",
              "11  This film has me seriously doubting again whet...  negative         1161\n",
              "12  If you have beloved actors, Peter Falk, Rip To...  negative          677\n",
              "13  The story, as I understand, is \"based on real ...  negative         2091\n",
              "14  I remember thinking that due to the cast, the ...  negative         2735\n",
              "15  It's the early 80s. There's a group of suspici...  negative         1007\n",
              "16  This has to be the worst, and I mean worst bik...  negative          682\n",
              "17  Even though this was a made-for-TV production,...  negative         1697\n",
              "18  This has to be the most boring movie I ever sa...  negative          303\n",
              "19  After reading the first 5 reviews on IMDb I wa...  negative         1120\n",
              "20  A good idea let down by heavy-handed productio...  negative          876\n",
              "21  I suppose I'm supposed to take something like ...  negative         1202\n",
              "22  that's incredible! Fidani (who he was also a s...  negative         1049\n",
              "23  First off, the title character is not even the...  negative         1301\n",
              "24  Oh this was a really bad movie. The girl who p...  negative          634\n",
              "25  Some fraud girl tries to compete in the big le...  negative          343\n",
              "26  honestly, i don't know what's funnier, this ho...  negative          660\n",
              "27  This is just a bad movie. With what seemed to ...  negative          676\n",
              "28  There's a lot of movies that have set release ...  negative         2901\n",
              "29  The excruciatingly slow pace of this film was ...  negative         1019\n",
              "30  I thought that this movies was a letdown I exp...  negative         1794\n",
              "31  Lethargic direction ruins an otherwise compell...  negative          922\n",
              "32  My husband and I bought the Old School Sesame ...  negative         1394\n",
              "33  Even though the plot was very well detailed,an...  negative          949\n",
              "34  Stay away from this movie! It is terrible in e...  negative          436\n",
              "35  I stopped watching this POS as soon as the sna...  negative          922\n",
              "36  How? I wondered why I hadn't seen this in thea...  negative          692\n",
              "37  Production line collection of fart jokes that ...  negative          676\n",
              "38  I strongly dislike this show. I mean, like, ba...  negative          713\n",
              "39  Drug runner Archie Moses introduces his friend...  negative         1037\n",
              "40  Looking for a movie for your Turkey Film Festi...  negative          806\n",
              "41  Let me be clear. I've used IMDb for years. But...  negative         2062\n",
              "42  A group of cavers with a sad history take an a...  negative         1759\n",
              "43  I gave this movie a rating of 1 because it is ...  negative          717\n",
              "44  NO SPOILERS.<br /><br />I love horror movies, ...  negative          563\n",
              "45  I just rented this today....heard lots of good...  negative         1387\n",
              "46  I've had a thing for this Kari chick for a whi...  negative          859\n",
              "47  My husband wanted to watch this film because t...  negative         1260\n",
              "48  I have absolutely no knowledge of author Phill...  negative         1272\n",
              "49  Anita and Me seems to be little more than an e...  negative         2341"
            ],
            "text/html": [
              "\n",
              "  <div id=\"df-90920061-8a86-425e-9196-512870e9446a\" class=\"colab-df-container\">\n",
              "    <div>\n",
              "<style scoped>\n",
              "    .dataframe tbody tr th:only-of-type {\n",
              "        vertical-align: middle;\n",
              "    }\n",
              "\n",
              "    .dataframe tbody tr th {\n",
              "        vertical-align: top;\n",
              "    }\n",
              "\n",
              "    .dataframe thead th {\n",
              "        text-align: right;\n",
              "    }\n",
              "</style>\n",
              "<table border=\"1\" class=\"dataframe\">\n",
              "  <thead>\n",
              "    <tr style=\"text-align: right;\">\n",
              "      <th></th>\n",
              "      <th>Sentence</th>\n",
              "      <th>Sentiment</th>\n",
              "      <th>text_length</th>\n",
              "    </tr>\n",
              "  </thead>\n",
              "  <tbody>\n",
              "    <tr>\n",
              "      <th>0</th>\n",
              "      <td>A not bad but also not so great heist film. Ki...</td>\n",
              "      <td>negative</td>\n",
              "      <td>962</td>\n",
              "    </tr>\n",
              "    <tr>\n",
              "      <th>1</th>\n",
              "      <td>I saw this recent Woody Allen film because I'm...</td>\n",
              "      <td>negative</td>\n",
              "      <td>1311</td>\n",
              "    </tr>\n",
              "    <tr>\n",
              "      <th>2</th>\n",
              "      <td>Veteran British television director Alan Gibso...</td>\n",
              "      <td>negative</td>\n",
              "      <td>3959</td>\n",
              "    </tr>\n",
              "    <tr>\n",
              "      <th>3</th>\n",
              "      <td>If you enjoy seeing what must have started as ...</td>\n",
              "      <td>negative</td>\n",
              "      <td>580</td>\n",
              "    </tr>\n",
              "    <tr>\n",
              "      <th>4</th>\n",
              "      <td>This low-budget film about a writer who goes t...</td>\n",
              "      <td>negative</td>\n",
              "      <td>939</td>\n",
              "    </tr>\n",
              "    <tr>\n",
              "      <th>5</th>\n",
              "      <td>for those of you who were desperate to find ou...</td>\n",
              "      <td>negative</td>\n",
              "      <td>1067</td>\n",
              "    </tr>\n",
              "    <tr>\n",
              "      <th>6</th>\n",
              "      <td>This wasn't funny in 1972. It's not funny now....</td>\n",
              "      <td>negative</td>\n",
              "      <td>508</td>\n",
              "    </tr>\n",
              "    <tr>\n",
              "      <th>7</th>\n",
              "      <td>Leslie Nielsen is usually someone whose movies...</td>\n",
              "      <td>negative</td>\n",
              "      <td>956</td>\n",
              "    </tr>\n",
              "    <tr>\n",
              "      <th>8</th>\n",
              "      <td>'You're in the Navy Now' is painfully bad: ver...</td>\n",
              "      <td>negative</td>\n",
              "      <td>1588</td>\n",
              "    </tr>\n",
              "    <tr>\n",
              "      <th>9</th>\n",
              "      <td>I just finished watching Dog Watch. I thought ...</td>\n",
              "      <td>negative</td>\n",
              "      <td>659</td>\n",
              "    </tr>\n",
              "    <tr>\n",
              "      <th>10</th>\n",
              "      <td>83 minutes? Nope, this thing is 72 minutes, to...</td>\n",
              "      <td>negative</td>\n",
              "      <td>329</td>\n",
              "    </tr>\n",
              "    <tr>\n",
              "      <th>11</th>\n",
              "      <td>This film has me seriously doubting again whet...</td>\n",
              "      <td>negative</td>\n",
              "      <td>1161</td>\n",
              "    </tr>\n",
              "    <tr>\n",
              "      <th>12</th>\n",
              "      <td>If you have beloved actors, Peter Falk, Rip To...</td>\n",
              "      <td>negative</td>\n",
              "      <td>677</td>\n",
              "    </tr>\n",
              "    <tr>\n",
              "      <th>13</th>\n",
              "      <td>The story, as I understand, is \"based on real ...</td>\n",
              "      <td>negative</td>\n",
              "      <td>2091</td>\n",
              "    </tr>\n",
              "    <tr>\n",
              "      <th>14</th>\n",
              "      <td>I remember thinking that due to the cast, the ...</td>\n",
              "      <td>negative</td>\n",
              "      <td>2735</td>\n",
              "    </tr>\n",
              "    <tr>\n",
              "      <th>15</th>\n",
              "      <td>It's the early 80s. There's a group of suspici...</td>\n",
              "      <td>negative</td>\n",
              "      <td>1007</td>\n",
              "    </tr>\n",
              "    <tr>\n",
              "      <th>16</th>\n",
              "      <td>This has to be the worst, and I mean worst bik...</td>\n",
              "      <td>negative</td>\n",
              "      <td>682</td>\n",
              "    </tr>\n",
              "    <tr>\n",
              "      <th>17</th>\n",
              "      <td>Even though this was a made-for-TV production,...</td>\n",
              "      <td>negative</td>\n",
              "      <td>1697</td>\n",
              "    </tr>\n",
              "    <tr>\n",
              "      <th>18</th>\n",
              "      <td>This has to be the most boring movie I ever sa...</td>\n",
              "      <td>negative</td>\n",
              "      <td>303</td>\n",
              "    </tr>\n",
              "    <tr>\n",
              "      <th>19</th>\n",
              "      <td>After reading the first 5 reviews on IMDb I wa...</td>\n",
              "      <td>negative</td>\n",
              "      <td>1120</td>\n",
              "    </tr>\n",
              "    <tr>\n",
              "      <th>20</th>\n",
              "      <td>A good idea let down by heavy-handed productio...</td>\n",
              "      <td>negative</td>\n",
              "      <td>876</td>\n",
              "    </tr>\n",
              "    <tr>\n",
              "      <th>21</th>\n",
              "      <td>I suppose I'm supposed to take something like ...</td>\n",
              "      <td>negative</td>\n",
              "      <td>1202</td>\n",
              "    </tr>\n",
              "    <tr>\n",
              "      <th>22</th>\n",
              "      <td>that's incredible! Fidani (who he was also a s...</td>\n",
              "      <td>negative</td>\n",
              "      <td>1049</td>\n",
              "    </tr>\n",
              "    <tr>\n",
              "      <th>23</th>\n",
              "      <td>First off, the title character is not even the...</td>\n",
              "      <td>negative</td>\n",
              "      <td>1301</td>\n",
              "    </tr>\n",
              "    <tr>\n",
              "      <th>24</th>\n",
              "      <td>Oh this was a really bad movie. The girl who p...</td>\n",
              "      <td>negative</td>\n",
              "      <td>634</td>\n",
              "    </tr>\n",
              "    <tr>\n",
              "      <th>25</th>\n",
              "      <td>Some fraud girl tries to compete in the big le...</td>\n",
              "      <td>negative</td>\n",
              "      <td>343</td>\n",
              "    </tr>\n",
              "    <tr>\n",
              "      <th>26</th>\n",
              "      <td>honestly, i don't know what's funnier, this ho...</td>\n",
              "      <td>negative</td>\n",
              "      <td>660</td>\n",
              "    </tr>\n",
              "    <tr>\n",
              "      <th>27</th>\n",
              "      <td>This is just a bad movie. With what seemed to ...</td>\n",
              "      <td>negative</td>\n",
              "      <td>676</td>\n",
              "    </tr>\n",
              "    <tr>\n",
              "      <th>28</th>\n",
              "      <td>There's a lot of movies that have set release ...</td>\n",
              "      <td>negative</td>\n",
              "      <td>2901</td>\n",
              "    </tr>\n",
              "    <tr>\n",
              "      <th>29</th>\n",
              "      <td>The excruciatingly slow pace of this film was ...</td>\n",
              "      <td>negative</td>\n",
              "      <td>1019</td>\n",
              "    </tr>\n",
              "    <tr>\n",
              "      <th>30</th>\n",
              "      <td>I thought that this movies was a letdown I exp...</td>\n",
              "      <td>negative</td>\n",
              "      <td>1794</td>\n",
              "    </tr>\n",
              "    <tr>\n",
              "      <th>31</th>\n",
              "      <td>Lethargic direction ruins an otherwise compell...</td>\n",
              "      <td>negative</td>\n",
              "      <td>922</td>\n",
              "    </tr>\n",
              "    <tr>\n",
              "      <th>32</th>\n",
              "      <td>My husband and I bought the Old School Sesame ...</td>\n",
              "      <td>negative</td>\n",
              "      <td>1394</td>\n",
              "    </tr>\n",
              "    <tr>\n",
              "      <th>33</th>\n",
              "      <td>Even though the plot was very well detailed,an...</td>\n",
              "      <td>negative</td>\n",
              "      <td>949</td>\n",
              "    </tr>\n",
              "    <tr>\n",
              "      <th>34</th>\n",
              "      <td>Stay away from this movie! It is terrible in e...</td>\n",
              "      <td>negative</td>\n",
              "      <td>436</td>\n",
              "    </tr>\n",
              "    <tr>\n",
              "      <th>35</th>\n",
              "      <td>I stopped watching this POS as soon as the sna...</td>\n",
              "      <td>negative</td>\n",
              "      <td>922</td>\n",
              "    </tr>\n",
              "    <tr>\n",
              "      <th>36</th>\n",
              "      <td>How? I wondered why I hadn't seen this in thea...</td>\n",
              "      <td>negative</td>\n",
              "      <td>692</td>\n",
              "    </tr>\n",
              "    <tr>\n",
              "      <th>37</th>\n",
              "      <td>Production line collection of fart jokes that ...</td>\n",
              "      <td>negative</td>\n",
              "      <td>676</td>\n",
              "    </tr>\n",
              "    <tr>\n",
              "      <th>38</th>\n",
              "      <td>I strongly dislike this show. I mean, like, ba...</td>\n",
              "      <td>negative</td>\n",
              "      <td>713</td>\n",
              "    </tr>\n",
              "    <tr>\n",
              "      <th>39</th>\n",
              "      <td>Drug runner Archie Moses introduces his friend...</td>\n",
              "      <td>negative</td>\n",
              "      <td>1037</td>\n",
              "    </tr>\n",
              "    <tr>\n",
              "      <th>40</th>\n",
              "      <td>Looking for a movie for your Turkey Film Festi...</td>\n",
              "      <td>negative</td>\n",
              "      <td>806</td>\n",
              "    </tr>\n",
              "    <tr>\n",
              "      <th>41</th>\n",
              "      <td>Let me be clear. I've used IMDb for years. But...</td>\n",
              "      <td>negative</td>\n",
              "      <td>2062</td>\n",
              "    </tr>\n",
              "    <tr>\n",
              "      <th>42</th>\n",
              "      <td>A group of cavers with a sad history take an a...</td>\n",
              "      <td>negative</td>\n",
              "      <td>1759</td>\n",
              "    </tr>\n",
              "    <tr>\n",
              "      <th>43</th>\n",
              "      <td>I gave this movie a rating of 1 because it is ...</td>\n",
              "      <td>negative</td>\n",
              "      <td>717</td>\n",
              "    </tr>\n",
              "    <tr>\n",
              "      <th>44</th>\n",
              "      <td>NO SPOILERS.&lt;br /&gt;&lt;br /&gt;I love horror movies, ...</td>\n",
              "      <td>negative</td>\n",
              "      <td>563</td>\n",
              "    </tr>\n",
              "    <tr>\n",
              "      <th>45</th>\n",
              "      <td>I just rented this today....heard lots of good...</td>\n",
              "      <td>negative</td>\n",
              "      <td>1387</td>\n",
              "    </tr>\n",
              "    <tr>\n",
              "      <th>46</th>\n",
              "      <td>I've had a thing for this Kari chick for a whi...</td>\n",
              "      <td>negative</td>\n",
              "      <td>859</td>\n",
              "    </tr>\n",
              "    <tr>\n",
              "      <th>47</th>\n",
              "      <td>My husband wanted to watch this film because t...</td>\n",
              "      <td>negative</td>\n",
              "      <td>1260</td>\n",
              "    </tr>\n",
              "    <tr>\n",
              "      <th>48</th>\n",
              "      <td>I have absolutely no knowledge of author Phill...</td>\n",
              "      <td>negative</td>\n",
              "      <td>1272</td>\n",
              "    </tr>\n",
              "    <tr>\n",
              "      <th>49</th>\n",
              "      <td>Anita and Me seems to be little more than an e...</td>\n",
              "      <td>negative</td>\n",
              "      <td>2341</td>\n",
              "    </tr>\n",
              "  </tbody>\n",
              "</table>\n",
              "</div>\n",
              "    <div class=\"colab-df-buttons\">\n",
              "\n",
              "  <div class=\"colab-df-container\">\n",
              "    <button class=\"colab-df-convert\" onclick=\"convertToInteractive('df-90920061-8a86-425e-9196-512870e9446a')\"\n",
              "            title=\"Convert this dataframe to an interactive table.\"\n",
              "            style=\"display:none;\">\n",
              "\n",
              "  <svg xmlns=\"http://www.w3.org/2000/svg\" height=\"24px\" viewBox=\"0 -960 960 960\">\n",
              "    <path d=\"M120-120v-720h720v720H120Zm60-500h600v-160H180v160Zm220 220h160v-160H400v160Zm0 220h160v-160H400v160ZM180-400h160v-160H180v160Zm440 0h160v-160H620v160ZM180-180h160v-160H180v160Zm440 0h160v-160H620v160Z\"/>\n",
              "  </svg>\n",
              "    </button>\n",
              "\n",
              "  <style>\n",
              "    .colab-df-container {\n",
              "      display:flex;\n",
              "      gap: 12px;\n",
              "    }\n",
              "\n",
              "    .colab-df-convert {\n",
              "      background-color: #E8F0FE;\n",
              "      border: none;\n",
              "      border-radius: 50%;\n",
              "      cursor: pointer;\n",
              "      display: none;\n",
              "      fill: #1967D2;\n",
              "      height: 32px;\n",
              "      padding: 0 0 0 0;\n",
              "      width: 32px;\n",
              "    }\n",
              "\n",
              "    .colab-df-convert:hover {\n",
              "      background-color: #E2EBFA;\n",
              "      box-shadow: 0px 1px 2px rgba(60, 64, 67, 0.3), 0px 1px 3px 1px rgba(60, 64, 67, 0.15);\n",
              "      fill: #174EA6;\n",
              "    }\n",
              "\n",
              "    .colab-df-buttons div {\n",
              "      margin-bottom: 4px;\n",
              "    }\n",
              "\n",
              "    [theme=dark] .colab-df-convert {\n",
              "      background-color: #3B4455;\n",
              "      fill: #D2E3FC;\n",
              "    }\n",
              "\n",
              "    [theme=dark] .colab-df-convert:hover {\n",
              "      background-color: #434B5C;\n",
              "      box-shadow: 0px 1px 3px 1px rgba(0, 0, 0, 0.15);\n",
              "      filter: drop-shadow(0px 1px 2px rgba(0, 0, 0, 0.3));\n",
              "      fill: #FFFFFF;\n",
              "    }\n",
              "  </style>\n",
              "\n",
              "    <script>\n",
              "      const buttonEl =\n",
              "        document.querySelector('#df-90920061-8a86-425e-9196-512870e9446a button.colab-df-convert');\n",
              "      buttonEl.style.display =\n",
              "        google.colab.kernel.accessAllowed ? 'block' : 'none';\n",
              "\n",
              "      async function convertToInteractive(key) {\n",
              "        const element = document.querySelector('#df-90920061-8a86-425e-9196-512870e9446a');\n",
              "        const dataTable =\n",
              "          await google.colab.kernel.invokeFunction('convertToInteractive',\n",
              "                                                    [key], {});\n",
              "        if (!dataTable) return;\n",
              "\n",
              "        const docLinkHtml = 'Like what you see? Visit the ' +\n",
              "          '<a target=\"_blank\" href=https://colab.research.google.com/notebooks/data_table.ipynb>data table notebook</a>'\n",
              "          + ' to learn more about interactive tables.';\n",
              "        element.innerHTML = '';\n",
              "        dataTable['output_type'] = 'display_data';\n",
              "        await google.colab.output.renderOutput(dataTable, element);\n",
              "        const docLink = document.createElement('div');\n",
              "        docLink.innerHTML = docLinkHtml;\n",
              "        element.appendChild(docLink);\n",
              "      }\n",
              "    </script>\n",
              "  </div>\n",
              "\n",
              "\n",
              "<div id=\"df-2489e08b-dc08-4981-9341-cd425e244641\">\n",
              "  <button class=\"colab-df-quickchart\" onclick=\"quickchart('df-2489e08b-dc08-4981-9341-cd425e244641')\"\n",
              "            title=\"Suggest charts\"\n",
              "            style=\"display:none;\">\n",
              "\n",
              "<svg xmlns=\"http://www.w3.org/2000/svg\" height=\"24px\"viewBox=\"0 0 24 24\"\n",
              "     width=\"24px\">\n",
              "    <g>\n",
              "        <path d=\"M19 3H5c-1.1 0-2 .9-2 2v14c0 1.1.9 2 2 2h14c1.1 0 2-.9 2-2V5c0-1.1-.9-2-2-2zM9 17H7v-7h2v7zm4 0h-2V7h2v10zm4 0h-2v-4h2v4z\"/>\n",
              "    </g>\n",
              "</svg>\n",
              "  </button>\n",
              "\n",
              "<style>\n",
              "  .colab-df-quickchart {\n",
              "      --bg-color: #E8F0FE;\n",
              "      --fill-color: #1967D2;\n",
              "      --hover-bg-color: #E2EBFA;\n",
              "      --hover-fill-color: #174EA6;\n",
              "      --disabled-fill-color: #AAA;\n",
              "      --disabled-bg-color: #DDD;\n",
              "  }\n",
              "\n",
              "  [theme=dark] .colab-df-quickchart {\n",
              "      --bg-color: #3B4455;\n",
              "      --fill-color: #D2E3FC;\n",
              "      --hover-bg-color: #434B5C;\n",
              "      --hover-fill-color: #FFFFFF;\n",
              "      --disabled-bg-color: #3B4455;\n",
              "      --disabled-fill-color: #666;\n",
              "  }\n",
              "\n",
              "  .colab-df-quickchart {\n",
              "    background-color: var(--bg-color);\n",
              "    border: none;\n",
              "    border-radius: 50%;\n",
              "    cursor: pointer;\n",
              "    display: none;\n",
              "    fill: var(--fill-color);\n",
              "    height: 32px;\n",
              "    padding: 0;\n",
              "    width: 32px;\n",
              "  }\n",
              "\n",
              "  .colab-df-quickchart:hover {\n",
              "    background-color: var(--hover-bg-color);\n",
              "    box-shadow: 0 1px 2px rgba(60, 64, 67, 0.3), 0 1px 3px 1px rgba(60, 64, 67, 0.15);\n",
              "    fill: var(--button-hover-fill-color);\n",
              "  }\n",
              "\n",
              "  .colab-df-quickchart-complete:disabled,\n",
              "  .colab-df-quickchart-complete:disabled:hover {\n",
              "    background-color: var(--disabled-bg-color);\n",
              "    fill: var(--disabled-fill-color);\n",
              "    box-shadow: none;\n",
              "  }\n",
              "\n",
              "  .colab-df-spinner {\n",
              "    border: 2px solid var(--fill-color);\n",
              "    border-color: transparent;\n",
              "    border-bottom-color: var(--fill-color);\n",
              "    animation:\n",
              "      spin 1s steps(1) infinite;\n",
              "  }\n",
              "\n",
              "  @keyframes spin {\n",
              "    0% {\n",
              "      border-color: transparent;\n",
              "      border-bottom-color: var(--fill-color);\n",
              "      border-left-color: var(--fill-color);\n",
              "    }\n",
              "    20% {\n",
              "      border-color: transparent;\n",
              "      border-left-color: var(--fill-color);\n",
              "      border-top-color: var(--fill-color);\n",
              "    }\n",
              "    30% {\n",
              "      border-color: transparent;\n",
              "      border-left-color: var(--fill-color);\n",
              "      border-top-color: var(--fill-color);\n",
              "      border-right-color: var(--fill-color);\n",
              "    }\n",
              "    40% {\n",
              "      border-color: transparent;\n",
              "      border-right-color: var(--fill-color);\n",
              "      border-top-color: var(--fill-color);\n",
              "    }\n",
              "    60% {\n",
              "      border-color: transparent;\n",
              "      border-right-color: var(--fill-color);\n",
              "    }\n",
              "    80% {\n",
              "      border-color: transparent;\n",
              "      border-right-color: var(--fill-color);\n",
              "      border-bottom-color: var(--fill-color);\n",
              "    }\n",
              "    90% {\n",
              "      border-color: transparent;\n",
              "      border-bottom-color: var(--fill-color);\n",
              "    }\n",
              "  }\n",
              "</style>\n",
              "\n",
              "  <script>\n",
              "    async function quickchart(key) {\n",
              "      const quickchartButtonEl =\n",
              "        document.querySelector('#' + key + ' button');\n",
              "      quickchartButtonEl.disabled = true;  // To prevent multiple clicks.\n",
              "      quickchartButtonEl.classList.add('colab-df-spinner');\n",
              "      try {\n",
              "        const charts = await google.colab.kernel.invokeFunction(\n",
              "            'suggestCharts', [key], {});\n",
              "      } catch (error) {\n",
              "        console.error('Error during call to suggestCharts:', error);\n",
              "      }\n",
              "      quickchartButtonEl.classList.remove('colab-df-spinner');\n",
              "      quickchartButtonEl.classList.add('colab-df-quickchart-complete');\n",
              "    }\n",
              "    (() => {\n",
              "      let quickchartButtonEl =\n",
              "        document.querySelector('#df-2489e08b-dc08-4981-9341-cd425e244641 button');\n",
              "      quickchartButtonEl.style.display =\n",
              "        google.colab.kernel.accessAllowed ? 'block' : 'none';\n",
              "    })();\n",
              "  </script>\n",
              "</div>\n",
              "\n",
              "    </div>\n",
              "  </div>\n"
            ],
            "application/vnd.google.colaboratory.intrinsic+json": {
              "type": "dataframe",
              "variable_name": "df",
              "summary": "{\n  \"name\": \"df\",\n  \"rows\": 10046,\n  \"fields\": [\n    {\n      \"column\": \"Sentence\",\n      \"properties\": {\n        \"dtype\": \"string\",\n        \"num_unique_values\": 10025,\n        \"samples\": [\n          \"OK, so I gotta start this review by saying i was really expecting to see this flick for months, i use to watch its trailer and think it looked really cool....little did i know that the only cool thing about this clich\\u00e9-driven turd was precisely its trailer.<br /><br />At the cinema, i watched the first 3 frames of this movie and though to myself \\\"no way this movie is so bad, don't be an idiot, give it a chance! you've only seen 3 minutes\\\" while i rolled my eyes in shame. All those frames showed....get this....a guy with a poker face (because he feels nothing....that's deep) looking straight at the camera in the middle of the frame. In the second or third one, he stays awake in his perfectly made bed (because he sleeps like a dead guy...cause he feels nothing), and his father calls, and says \\\"John Garden State, is me, your father\\\"....oh come on! I've seen a little more than a couple flicks to hate clich\\u00e9s such as the \\\"is me, your (insert parent)\\\", how the hell am I supposed to react??: \\\"Oh, he has a tough relationship with him\\\"....uh....yeah, thats exactly how I'm supposed to react....<br /><br />Man, this is a crappy movie...<br /><br />Anywho, as the flick goes on, we learn things about his friends, of which everyone is a ALTERNATIVE EMO WALKING INDIE MOVIE CLICH\\u00c9. For example, one of his acquaintances is a guy who works in a medieval themed restaurant who speaks Klingon (Bizarre characters + Pop culture = Your standard American indie flick). Then we know Natalie Portman's character, who is a copy of Alissa Jones (from a movie that kicks GS's butt, Chasing Amy), Amelie and that chick from Eternal Sunshine... you know, smart, original (not really), cultured, beautiful and...in touch with her sexuality (!). She listens some '70s band named The Shins and gives...what? they're from this damn decade?? Then why do they sound like that?? Oh, they have no personality, OK.....so she hands her CD player to John Garden State and he looks at her with a dumb face(you know, love). As the song played on, i heard its lyrics saying \\\"you will love this soundtrack, it is so alternative and cool, you will love this movie, it will define you and your generation even if it is a ideological photocopy of The Breakfast Club, Ghost World and every other smart teen movie from the last 20 years, you will drink coffee and read books you don't understand\\\"...<br /><br />By now, really unoriginal sh!t starts to happen....he doesn't care if he dies in a airplane crash (because he is already dead....and he feels nothing) and he lets us know in a scene idea taken straight out of an unknown movie called FIGHT CLUB!!!, it is a cool scene but, oh, did I mentioned it appeared in the trailer?.......then in some party, and just when you think this guy is really deep and asexual he makes out with a bimbo....so oh, he's not such a emotional zombie after all....clever character development or just a sh!tty movie?......well, lets analyze that scene, it features him sitting motionless in a couch with everyone else moving in really fast speed......scene idea taken straight out of an unknown movie called REQUIEM FROM A DREAM!......so just a sh!tty, sh!tty movie...<br /><br />Then they meet more eccentric (clich\\u00e9, actually) characters, and finally, one that lives next to a big hole in the ground. John Garden State says some crap like \\\"good luck exploring your infinite abyss\\\" and the guy says....and by now i wanted to really choke myself, \\\"You too\\\"..............and then we are gently told that Neo is Jesus....oh no, wait, thats from another dumb, obvious, repetitive, overestimated and clich\\u00e9 piece of crap.<br /><br />Finally (Finally!!!!), some more crap happens and he enters the big warehouse showdown to defuse the bombs: he has to talk to his dad who he hasn't seen in the last zillion years cause he (FINALLY COOL SPOILERS) killed his own mom....(you see, he killed his mom, so he's also dead.......and feels nothing.....that's deep). Now I really expected just clever and moving Magnolia-like dialogue between a father and a son......but this is Garden State, so this is pretty much it: -John Garden State: Father, I forgive you, you didn't know what you were doing when you drugged me for a zillion years, but I know you love me -Crappy director's dad: No!!! No!!!! I'm gonna say some simple stuff cause I'm not really so deep of a character anyway, like this whole movie actually, so no!!!! -John Garden State: No dad, we must get along cause we are equal individuals.....i mean different individuals -Crappy director's dad: No!!!!! No!!!!............OK, you convinced me. <br /><br />And he gets the girl (cause he's no longer dead, you know) and the movie ends and i go and eat a piece of chicken that makes my day....<br /><br />This made-for-trailer movie sucks\",\n          \"Others have commented on the somewhat strange video arrangements. I think they were trying to capture what you'd be looking at when attending a live performance. The feet, the faces, the overall view. Unfortunately, it falls a bit short. But, having said that, watching Colin Dunne is nevertheless gratifying. It's an interesting contrast to Michael Flatley in the original video. The progression of the show is evident, changes from the original Dublin production are evident.<br /><br />\\\"Trading Taps\\\" is the highlight of the video, in my opinion. Tarik Winston is unbelievable, as is his partner in the piece.<br /><br />I think the audio was better in this version than the original video production (1995). In Dolby 5.1 on DVD it's excellent.<br /><br />Despite the flawed videography, it's a must-own for Riverdance fans.\",\n          \"This movie has so many wonderful elements to it! The debut performance of Reese Witherspoon is, of course, marvelous, but so too is her chemistry with Jason London. The score is remarkable, breezy and pure. James Newton Howard enhances the quality of any film he composes for tenfold. He also seems to have a knack for lost-days-of-youth movies, be sure to catch his score for the recent \\\"Peter Pan\\\" and the haunting Gothic music of \\\"The Village.\\\" I first saw this film at about 13 or 14 and now I don't just cry at the ending, I shed a tear or two for the nostalgia. Show this movie to your daughters. It will end up becoming a lifetime comfort film.\"\n        ],\n        \"semantic_type\": \"\",\n        \"description\": \"\"\n      }\n    },\n    {\n      \"column\": \"Sentiment\",\n      \"properties\": {\n        \"dtype\": \"category\",\n        \"num_unique_values\": 2,\n        \"samples\": [\n          \"positive\",\n          \"negative\"\n        ],\n        \"semantic_type\": \"\",\n        \"description\": \"\"\n      }\n    },\n    {\n      \"column\": \"text_length\",\n      \"properties\": {\n        \"dtype\": \"number\",\n        \"std\": 1014,\n        \"min\": 32,\n        \"max\": 13704,\n        \"num_unique_values\": 2987,\n        \"samples\": [\n          235,\n          2591\n        ],\n        \"semantic_type\": \"\",\n        \"description\": \"\"\n      }\n    }\n  ]\n}"
            }
          },
          "metadata": {},
          "execution_count": 73
        }
      ]
    },
    {
      "cell_type": "code",
      "execution_count": 11,
      "metadata": {
        "colab": {
          "base_uri": "https://localhost:8080/"
        },
        "id": "KhWFYu7-_qyv",
        "outputId": "b363e0be-240d-4b70-b405-dea0162ef905"
      },
      "outputs": [
        {
          "output_type": "execute_result",
          "data": {
            "text/plain": [
              "(50233, 2)"
            ]
          },
          "metadata": {},
          "execution_count": 11
        }
      ],
      "source": [
        "df.shape"
      ]
    },
    {
      "cell_type": "code",
      "source": [
        "df.Sentiment.value_counts()"
      ],
      "metadata": {
        "colab": {
          "base_uri": "https://localhost:8080/",
          "height": 178
        },
        "id": "yPJ3ZlNbNtnF",
        "outputId": "5ab5e3cd-677f-4e13-a25f-00d572e927c8"
      },
      "execution_count": 12,
      "outputs": [
        {
          "output_type": "execute_result",
          "data": {
            "text/plain": [
              "Sentiment\n",
              "negative    25191\n",
              "positive    25042\n",
              "Name: count, dtype: int64"
            ],
            "text/html": [
              "<div>\n",
              "<style scoped>\n",
              "    .dataframe tbody tr th:only-of-type {\n",
              "        vertical-align: middle;\n",
              "    }\n",
              "\n",
              "    .dataframe tbody tr th {\n",
              "        vertical-align: top;\n",
              "    }\n",
              "\n",
              "    .dataframe thead th {\n",
              "        text-align: right;\n",
              "    }\n",
              "</style>\n",
              "<table border=\"1\" class=\"dataframe\">\n",
              "  <thead>\n",
              "    <tr style=\"text-align: right;\">\n",
              "      <th></th>\n",
              "      <th>count</th>\n",
              "    </tr>\n",
              "    <tr>\n",
              "      <th>Sentiment</th>\n",
              "      <th></th>\n",
              "    </tr>\n",
              "  </thead>\n",
              "  <tbody>\n",
              "    <tr>\n",
              "      <th>negative</th>\n",
              "      <td>25191</td>\n",
              "    </tr>\n",
              "    <tr>\n",
              "      <th>positive</th>\n",
              "      <td>25042</td>\n",
              "    </tr>\n",
              "  </tbody>\n",
              "</table>\n",
              "</div><br><label><b>dtype:</b> int64</label>"
            ]
          },
          "metadata": {},
          "execution_count": 12
        }
      ]
    },
    {
      "cell_type": "markdown",
      "source": [
        "As we can see our dataset, is well balanced with 25191 negative texts, and 25042 positive ones."
      ],
      "metadata": {
        "id": "1WXzN4P9k4Eb"
      }
    },
    {
      "cell_type": "code",
      "source": [
        "df = df.rename(columns={'Text': 'Sentence'})"
      ],
      "metadata": {
        "id": "kMMOuywHM_t7"
      },
      "execution_count": 13,
      "outputs": []
    },
    {
      "cell_type": "markdown",
      "source": [
        "At this stage, I am renaming my columns because I was experimenting with different datasets, each having different column names. To maintain consistency, I am standardizing the column names."
      ],
      "metadata": {
        "id": "wlB9EUi5lNMg"
      }
    },
    {
      "cell_type": "code",
      "source": [
        "fraction = 0.2\n",
        "df_stratified = (df.groupby('Sentiment', group_keys=False).apply(lambda x: x.sample(frac=fraction, random_state=42)))#Take 20% from each group\n",
        "df_stratified = df_stratified.reset_index(drop=True)#We reset index for our new dataset\n",
        "print(df_stratified['Sentiment'].value_counts())"
      ],
      "metadata": {
        "colab": {
          "base_uri": "https://localhost:8080/"
        },
        "id": "y653Hp9gZSx5",
        "outputId": "942084b1-b31d-4262-a853-1871cd9d7d15"
      },
      "execution_count": 15,
      "outputs": [
        {
          "output_type": "stream",
          "name": "stdout",
          "text": [
            "Sentiment\n",
            "negative    5038\n",
            "positive    5008\n",
            "Name: count, dtype: int64\n"
          ]
        },
        {
          "output_type": "stream",
          "name": "stderr",
          "text": [
            "<ipython-input-15-f30349ae02ea>:4: DeprecationWarning: DataFrameGroupBy.apply operated on the grouping columns. This behavior is deprecated, and in a future version of pandas the grouping columns will be excluded from the operation. Either pass `include_groups=False` to exclude the groupings or explicitly select the grouping columns after groupby to silence this warning.\n",
            "  .apply(lambda x: x.sample(frac=fraction, random_state=42))  # Take 20% from each group\n"
          ]
        }
      ]
    },
    {
      "cell_type": "markdown",
      "source": [
        "Due to computational limitations, I will use 1/5 of the dataset, approximately 10,000 samples. I am applying a stratified sampling method to ensure that samples are evenly distributed across both classes, maintaining the balance."
      ],
      "metadata": {
        "id": "oU2ZXMSpmEOn"
      }
    },
    {
      "cell_type": "code",
      "source": [
        "df=df_stratified"
      ],
      "metadata": {
        "id": "kQk6UepMZchr"
      },
      "execution_count": 69,
      "outputs": []
    },
    {
      "cell_type": "markdown",
      "source": [
        "Now, we will proceed with some Exploratory Data Analysis (EDA), such as examining text lengths, visualizing class distribution using a countplot, identifying the longest and shortest texts, as well as exploring some of the most frequent words."
      ],
      "metadata": {
        "id": "yGzI3weJmeU3"
      }
    },
    {
      "cell_type": "code",
      "execution_count": 70,
      "metadata": {
        "colab": {
          "base_uri": "https://localhost:8080/"
        },
        "id": "I0m8fVuAANgS",
        "outputId": "bd01dc02-2449-4623-c99c-94c71876f078"
      },
      "outputs": [
        {
          "output_type": "stream",
          "name": "stdout",
          "text": [
            "0         962\n",
            "1        1311\n",
            "2        3959\n",
            "3         580\n",
            "4         939\n",
            "         ... \n",
            "10041    4196\n",
            "10042    1596\n",
            "10043    1075\n",
            "10044    3974\n",
            "10045    1248\n",
            "Name: text_length, Length: 10046, dtype: int64\n"
          ]
        }
      ],
      "source": [
        "df['text_length'] = df['Sentence'].str.len()\n",
        "print(df['text_length'])"
      ]
    },
    {
      "cell_type": "code",
      "execution_count": 18,
      "metadata": {
        "colab": {
          "base_uri": "https://localhost:8080/",
          "height": 487
        },
        "id": "zMkcSQ6gAc6U",
        "outputId": "37fb11e1-aac9-4fe3-9a09-ba084a5b1588"
      },
      "outputs": [
        {
          "output_type": "display_data",
          "data": {
            "text/plain": [
              "<Figure size 800x500 with 1 Axes>"
            ],
            "image/png": "[encoded data removed]"
          },
          "metadata": {}
        }
      ],
      "source": [
        "#Class distribution\n",
        "plt.figure(figsize = (8,5))\n",
        "sns.countplot(x = 'Sentiment', data = df)\n",
        "plt.title('Class Distribution')\n",
        "plt.show()"
      ]
    },
    {
      "cell_type": "code",
      "execution_count": 19,
      "metadata": {
        "colab": {
          "base_uri": "https://localhost:8080/"
        },
        "id": "dW4Y_ny5Ag8y",
        "outputId": "1d53fd6c-fa27-4c61-9417-c4bcd9794194"
      },
      "outputs": [
        {
          "output_type": "stream",
          "name": "stdout",
          "text": [
            "The shortest text has 32 characters:\n",
            "\n",
            "McDonald's sales growth declines\n"
          ]
        }
      ],
      "source": [
        "#Let's find the text with the shortest length and with the longest.\n",
        "min_length = df['text_length'].min()\n",
        "shortest_text = df[df['text_length'] == min_length]['Sentence'].iloc[0]\n",
        "print(f\"The shortest text has {min_length} characters:\\n\\n{shortest_text}\")"
      ]
    },
    {
      "cell_type": "code",
      "execution_count": 20,
      "metadata": {
        "colab": {
          "base_uri": "https://localhost:8080/"
        },
        "id": "CaqLFrqgCOJm",
        "outputId": "aac817e8-1473-4375-953d-65305daa7a87"
      },
      "outputs": [
        {
          "output_type": "stream",
          "name": "stdout",
          "text": [
            "The longest text has 13704 characters:\n",
            "\n",
            "Match 1: Tag Team Table Match Bubba Ray and Spike Dudley vs Eddie Guerrero and Chris Benoit Bubba Ray and Spike Dudley started things off with a Tag Team Table Match against Eddie Guerrero and Chris Benoit. According to the rules of the match, both opponents have to go through tables in order to get the win. Benoit and Guerrero heated up early on by taking turns hammering first Spike and then Bubba Ray. A German suplex by Benoit to Bubba took the wind out of the Dudley brother. Spike tried to help his brother, but the referee restrained him while Benoit and Guerrero ganged up on him in the corner. With Benoit stomping away on Bubba, Guerrero set up a table outside. Spike dashed into the ring and somersaulted over the top rope onto Guerrero on the outside! After recovering and taking care of Spike, Guerrero slipped a table into the ring and helped the Wolverine set it up. The tandem then set up for a double superplex from the middle rope which would have put Bubba through the table, but Spike knocked the table over right before his brother came crashing down! Guerrero and Benoit propped another table in the corner and tried to Irish Whip Spike through it, but Bubba dashed in and blocked his brother. Bubba caught fire and lifted both opponents into back body drops! Bubba slammed Guerrero and Spike stomped on the Wolverine from off the top rope. Bubba held Benoit at bay for Spike to soar into the Wassup! headbutt! Shortly after, Benoit latched Spike in the Crossface, but the match continued even after Spike tapped out. Bubba came to his brother's rescue and managed to sprawl Benoit on a table. Bubba leapt from the middle rope, but Benoit moved and sent Bubba crashing through the wood! But because his opponents didn't force him through the table, Bubba was allowed to stay in the match. The first man was eliminated shortly after, though, as Spike put Eddie through a table with a Dudley Dawg from the ring apron to the outside! Benoit put Spike through a table moments later to even the score. Within seconds, Bubba nailed a Bubba Bomb that put Benoit through a table and gave the Dudleys the win! Winner: Bubba Ray and Spike Dudley<br /><br />Match 2: Cruiserweight Championship Jamie Noble vs Billy Kidman Billy Kidman challenged Jamie Noble, who brought Nidia with him to the ring, for the Cruiserweight Championship. Noble and Kidman locked up and tumbled over the ring, but raced back inside and grappled some more. When Kidman thwarted all Noble's moves, Noble fled outside the ring where Nidia gave him some encouragement. The fight spread outside the ring and Noble threw his girlfriend into the challenger. Kidman tossed Nidia aside but was taken down with a modified arm bar. Noble continued to attack Kidman's injured arm back in the ring. Kidman's injured harm hampered his offense, but he continued to battle hard. Noble tried to put Kidman away with a powerbomb but the challenger countered into a facebuster. Kidman went to finish things with a Shooting Star Press, but Noble broke up the attempt. Kidman went for the Shooting Star Press again, but this time Noble just rolled out of harm's way. Noble flipped Kidman into a power bomb soon after and got the pin to retain his WWE Cruiserweight Championship! Winner: Jamie Noble<br /><br />Match 3: European Championship William Regal vs Jeff Hardy William Regal took on Jeff Hardy next in an attempt to win back the European Championship. Jeff catapulted Regal over the top rope then took him down with a hurracanrana off the ring apron. Back in the ring, Jeff hit the Whisper in the wind to knock Regal for a loop. Jeff went for the Swanton Bomb, but Regal got his knees up to hit Jeff with a devastating shot. Jeff managed to surprise Regal with a quick rollup though and got the pin to keep the European Championship! Regal started bawling at seeing Hardy celebrate on his way back up the ramp. Winner: Jeff Hardy<br /><br />Match 4: Chris Jericho vs John Cena Chris Jericho had promised to end John Cena's career in their match at Vengeance, which came up next. Jericho tried to teach Cena a lesson as their match began by suplexing him to the mat. Jericho continued to knock Cena around the ring until his cockiness got the better of him. While on the top rope, Jericho began to showboat and allowed Cena to grab him for a superplex! Cena followed with a tilt-a-whirl slam but was taken down with a nasty dropkick to the gut. The rookie recovered and hit a belly to belly suplex but couldn't put Y2J away. Jericho launched into the Lionsault but Cena dodged the move. Jericho nailed a bulldog and then connected on the Lionsault, but did not go for the cover. He goaded Cena to his feet so he could put on the Walls of Jericho. Cena had other ideas, reversing the move into a pin attempt and getting the 1-2-3! Jericho went berserk after the match. Winner: John Cena<br /><br />Match 5: Intercontinental Championship RVD vs Brock Lesnar via disqualification The Next Big Thing and Mr. Pay-Per-View tangled with the Intercontinental Championship on the line. Brock grabbed the title from the ref and draped it over his shoulder momentarily while glaring at RVD. Van Dam 's quickness gave Brock fits early on. The big man rolled out of the ring and kicked the steel steps out of frustration. Brock pulled himself together and began to take charge. With Paul Heyman beaming at ringside, Brock slammed RVD to the hard floor outside the ring. From there, Brock began to overpower RVD, throwing him with ease over the top rope. RVD landed painfully on his back, then had to suffer from having his spine cracked against the steel ring steps. The fight returned to the ring with Brock squeezing RVD around the ribs. RVD broke away and soon after leveled Brock with a kick to the temple. RVD followed with the Rolling Thunder but Brock managed to kick out after a two-count. The fight looked like it might be over soon as RVD went for a Five-Star Frog Splash. Brock, though, hoisted Van Dam onto his shoulder and went for the F-5, but RVD whirled Brock into a DDT and followed with the Frog Splash! He went for the pin, but Heyman pulled the ref from the ring! The ref immediately called for a disqualification and soon traded blows with Heyman! After, RVD leapt onto Brock from the top rope and then threatened to hit the Van Terminator! Heyman grabbed RVD's leg and Brock picked up the champ and this time connected with the F-5 onto a steel chair! Winner: RVD<br /><br />Match 6: Booker T vs the Big Show Booker T faced the Big Show one-on-one next. Show withstood Booker T's kicks and punches and slapped Booker into the corner. After being thrown from the ring, Booker picked up a chair at ringside, but Big Show punched it back into Booker's face. Booker tried to get back into the game by choking Show with a camera cable at ringside. Booker smashed a TV monitor from the Spanish announcers' position into Show's skull, then delivered a scissors kick that put both men through the table! Booker crawled back into the ring and Big Show staggered in moments later. Show grabbed Booker's throat but was met by a low blow and a kick to the face. Booker climbed the top rope and nailed a somersaulting leg drop to get the pin! Winner: Booker T<br /><br />Announcement: Triple H entered the ring to a thunderous ovation as fans hoped to learn where The Game would end up competing. Before he could speak, Eric Bishoff stopped The Game to apologize for getting involved in his personal business. If Triple H signed with RAW, Bischoff promised his personal life would never come into play again. Bischoff said he's spent the past two years networking in Hollywood. He said everyone was looking for the next breakout WWE Superstar, and they were all talking about Triple H. Bischoff guaranteed that if Triple H signed with RAW, he'd be getting top opportunities coming his way. Stephanie McMahon stepped out to issue her own pitch. She said that because of her personal history with Triple H, the two of them know each other very well. She said the two of them were once unstoppable and they can be again. Bischoff cut her off and begged her to stop. Stephanie cited that Triple H once told her how Bischoff said Triple H had no talent and no charisma. Bischoff said he was young at the time and didn't know what he had, but he still has a lot more experience that Stephanie. The two continued to bicker back and forth, until Triple H stepped up with his microphone. The Game said it would be easy to say \"screw you\" to either one of them. Triple H went to shake Bischoff's hand, but pulled it away. He said he would rather go with the devil he knows, rather than the one he doesn't know. Before he could go any further, though, Shawn Michaels came out to shake things up. HBK said the last thing he wanted to do was cause any trouble. He didn't want to get involved, but he remembered pledging to bring Triple H to the nWo. HBK said there's nobody in the world that Triple H is better friends with. HBK told his friend to imagine the two back together again, making Bischoff's life a living hell. Triple H said that was a tempting offer. He then turned and hugged HBK, making official his switch to RAW! Triple H and HBK left, and Bischoff gloated over his victory. Bischoff said the difference between the two of them is that he's got testicles and she doesn't. Stephanie whacked Bischoff on the side of the head and left!<br /><br />Match 7: Tag Team Championship Match Christian and Lance Storm vs Hollywood Hogan and Edge The match started with loud \"USA\" chants and with Hogan shoving Christian through the ropes and out of the ring. The Canadians took over from there. But Edge scored a kick to Christian's head and planted a facebuster on Storm to get the tag to Hogan. Hogan began to Hulk up and soon caught Christian with a big boot and a leg drop! Storm broke up the count and Christian tossed Hogan from the ring where Storm superkicked the icon. Edge tagged in soon after and dropped both opponents. He speared both of them into the corner turnbuckles, but missed a spear on Strom and hit the ref hard instead. Edge nailed a DDT, but the ref was down and could not count. Test raced down and took down Hogan then leveled Edge with a boot. Storm tried to get the pin, but Edge kicked out after two. Riksihi sprinted in to fend off Test, allowing Edge to recover and spear Storm. Christian distracted the ref, though, and Y2J dashed in and clocked Edge with the Tag Team Championship! Storm rolled over and got the pinfall to win the title! Winners and New Tag Team Champions: Christian and Lance Storm<br /><br />Match 8: WWE Undisputed Championship Triple Threat Match. The Rock vs Kurt Angle and the Undertaker Three of WWE's most successful superstars lined up against each other in a Triple Threat Match with the Undisputed Championship hanging in the balance. Taker and The Rock got face to face with Kurt Angle begging for some attention off to the side. He got attention in the form of a beat down form the two other men. Soon after, Taker spilled out of the ring and The Rock brawled with Angle. Angle gave a series of suplexes that took down Rock, but the Great One countered with a DDT that managed a two-count. The fight continued outside the ring with Taker coming to life and clotheslining Angle and repeatedly smacking The Rock. Taker and Rock got into it back into the ring, and Taker dropped The Rock with a sidewalk slam to get a two-count. Rock rebounded, grabbed Taker by the throat and chokeslammed him! Angle broke up the pin attempt that likely would have given The Rock the title. The Rock retaliated by latching on the ankle lock to Kurt Angle. Angle reversed the move and Rock Bottomed the People's Champion. Soon after, The Rock disposed of Angle and hit the People's Elbow on the Undertaker. Angle tried to take advantage by disabling the Great One outside the ring and covering Taker, who kicked out after a two count. Outside the ring, Rock took a big swig from a nearby water bottle and spewed the liquid into Taker's face to blind the champion. Taker didn't stay disabled for long, and managed to overpower Rock and turn his attention to Angle. Taker landed a guillotine leg drop onto Angle, laying on the ring apron. The Rock picked himself up just in time to break up a pin attempt on Kurt Angle. Taker nailed Rock with a DDT and set him up for a chokeslam. ANgle tried sneaking up with a steel chair, but Taker caught on to that tomfoolery and smacked it out of his hands. The referee got caught in the ensuing fire and didn't see Angle knock Taker silly with a steel chair. Angle went to cover Taker as The Rock lay prone, but the Dead Man somehow got his shoulder up. Angle tried to pin Rock, but he too kicked out. The Rock got up and landed Angle in the sharpshooter! Angle looked like he was about to tap, but Taker kicked The Rock out of the submission hold. Taker picked Rock up and crashed him with the Last Ride. While the Dead Man covered him for the win, Angle raced in and picked Taker up in the ankle lock! Taker went delirious with pain, but managed to counter. He picked Angle up for the last ride, but Angle put on a triangle choke! It looked like Taker was about to pass out, but The Rock broke Angle's hold only to find himself caught in the ankle lock. Rock got out of the hold and watched Taker chokeslam Angle. Rocky hit the Rock Bottom, but Taker refused to go down and kicked out. Angle whirled Taker up into the Angle Slam but was Rock Bottomed by the Great One and pinned! Winner and New WWE Champion: The Rock<br /><br />~Finally there is a decent PPV! Lately the PPV weren't very good, but this one was a winner. I give this PPV a A-<br /><br />\n"
          ]
        }
      ],
      "source": [
        "max_length = df['text_length'].max()\n",
        "longest_text = df[df['text_length'] == max_length]['Sentence'].iloc[0]\n",
        "print(f\"The longest text has {max_length} characters:\\n\\n{longest_text}\")"
      ]
    },
    {
      "cell_type": "code",
      "execution_count": 21,
      "metadata": {
        "colab": {
          "base_uri": "https://localhost:8080/"
        },
        "id": "3fqmDwdlCVwF",
        "outputId": "7c53922d-cdad-4d50-8021-5e9bbca74ad0"
      },
      "outputs": [
        {
          "output_type": "stream",
          "name": "stdout",
          "text": [
            "A random word is \"explodes\" and it appears 13 times\n"
          ]
        }
      ],
      "source": [
        "#Here we find a random word\n",
        "random_text=random.choice(df['Sentence'])\n",
        "random_word=random.choice(random_text.split())\n",
        "random_word_count=df['Sentence'].str.count(random_word).sum()\n",
        "print('A random word is \"' + random_word + '\" and it appears ' + str(random_word_count) + ' times')\n"
      ]
    },
    {
      "cell_type": "code",
      "execution_count": 22,
      "metadata": {
        "colab": {
          "base_uri": "https://localhost:8080/"
        },
        "id": "7-T48JQUCdLk",
        "outputId": "ffdf7096-d045-4529-f868-c1f9d3be859a"
      },
      "outputs": [
        {
          "output_type": "stream",
          "name": "stdout",
          "text": [
            "the     114543\n",
            "a        61693\n",
            "and      61350\n",
            "of       57015\n",
            "to       53274\n",
            "is       40952\n",
            "in       34230\n",
            "I        26656\n",
            "that     25421\n",
            "this     22964\n",
            "Name: count, dtype: int64\n"
          ]
        }
      ],
      "source": [
        "df = df.dropna(subset=['Sentence'])\n",
        "allwords = \" \".join(df['Sentence']).split()\n",
        "allwords_counts = pd.Series(allwords).value_counts()\n",
        "top10_words = allwords_counts.head(10)\n",
        "print(top10_words)"
      ]
    },
    {
      "cell_type": "markdown",
      "source": [
        "As we can see, the most frequent words at the moment are stopwords. We will remove them shortly to ensure proper preprocessing"
      ],
      "metadata": {
        "id": "qoB-R03Rm8o1"
      }
    },
    {
      "cell_type": "code",
      "execution_count": 23,
      "metadata": {
        "colab": {
          "base_uri": "https://localhost:8080/"
        },
        "id": "GRt2w8rKCoEw",
        "outputId": "c561dd93-0e63-45ed-cb4a-cfd6156da9f9"
      },
      "outputs": [
        {
          "output_type": "stream",
          "name": "stdout",
          "text": [
            "[0 0 0 0 0 0 0 0 0 0]\n"
          ]
        }
      ],
      "source": [
        "#We convert categorical labels into numerical values for use in machine learning models\n",
        "from sklearn.preprocessing import LabelEncoder\n",
        "\n",
        "encoder= LabelEncoder()\n",
        "Y = encoder.fit_transform(df['Sentiment'])\n",
        "print(Y[:10])"
      ]
    },
    {
      "cell_type": "code",
      "execution_count": 24,
      "metadata": {
        "colab": {
          "base_uri": "https://localhost:8080/"
        },
        "id": "wiy5yTQSCp-c",
        "outputId": "b906f672-7851-498d-81be-cd1eed474ece"
      },
      "outputs": [
        {
          "output_type": "stream",
          "name": "stdout",
          "text": [
            "0    A not bad but also not so great heist film. Ki...\n",
            "1    I saw this recent Woody Allen film because I'm...\n",
            "2    Veteran British television director Alan Gibso...\n",
            "3    If you enjoy seeing what must have started as ...\n",
            "4    This low-budget film about a writer who goes t...\n",
            "5    for those of you who were desperate to find ou...\n",
            "6    This wasn't funny in 1972. It's not funny now....\n",
            "7    Leslie Nielsen is usually someone whose movies...\n",
            "8    'You're in the Navy Now' is painfully bad: ver...\n",
            "9    I just finished watching Dog Watch. I thought ...\n",
            "Name: Sentence, dtype: object\n"
          ]
        }
      ],
      "source": [
        "news= df['Sentence']\n",
        "print(news[:10])"
      ]
    },
    {
      "cell_type": "markdown",
      "source": [
        "We replace email addresses, URLs, money symbols, and numbers to standardize the text and reduce variability, ensuring the model focuses on meaningful patterns rather than irrelevant or unique details. This helps improve the model's generalization, simplifies the feature space, and prevents overfitting to specific tokens like emails or numbers."
      ],
      "metadata": {
        "id": "js04hND60ahx"
      }
    },
    {
      "cell_type": "code",
      "execution_count": 82,
      "metadata": {
        "id": "HvjM4KD8CuuS"
      },
      "outputs": [],
      "source": [
        "processed = news.str.replace(r'^.+@[^\\.].*\\.[a-z]{2,}$','emailaddress')\n",
        "processed = processed.str.replace(r'^http\\://[a-zA-Z0-9\\-\\.]+\\.[a-zA-Z]{2,3}(/\\S*)?$','webaddress')\n",
        "processed = processed.str.replace(r'£|\\$', 'moneysymb')\n",
        "processed = processed.str.replace(r'\\d+(\\.\\d+)?', 'numbr')"
      ]
    },
    {
      "cell_type": "markdown",
      "source": [
        "For similar reasons, we remove punctuation, replace multiple spaces with a single space, and strip leading or trailing whitespace to clean and normalize the text. This ensures consistency, reduces noise, and helps the model focus on meaningful patterns in the data without being affected by formatting issues."
      ],
      "metadata": {
        "id": "t1CLdOCi1bum"
      }
    },
    {
      "cell_type": "code",
      "execution_count": 83,
      "metadata": {
        "id": "1Mx8B9G9C2a6"
      },
      "outputs": [],
      "source": [
        "processed = processed.str.replace(r'[^\\w\\d\\s]', ' ')\n",
        "processed = processed.str.replace(r'\\s+', ' ')\n",
        "processed = processed.str.replace(r'^\\s+|\\s+?$', '')"
      ]
    },
    {
      "cell_type": "markdown",
      "source": [
        "We will also change all words to lowercase to ensure consistency."
      ],
      "metadata": {
        "id": "wppbbkWR1ytx"
      }
    },
    {
      "cell_type": "code",
      "execution_count": 84,
      "metadata": {
        "colab": {
          "base_uri": "https://localhost:8080/"
        },
        "id": "5nnw5c63C41u",
        "outputId": "3b8711ba-46ea-4b90-a989-8b767a8fc0d5"
      },
      "outputs": [
        {
          "output_type": "stream",
          "name": "stdout",
          "text": [
            "0        a not bad but also not so great heist film. ki...\n",
            "1        i saw this recent woody allen film because i'm...\n",
            "2        veteran british television director alan gibso...\n",
            "3        if you enjoy seeing what must have started as ...\n",
            "4        this low-budget film about a writer who goes t...\n",
            "                               ...                        \n",
            "10041    chokher bali was shown at the (washington) dc ...\n",
            "10042    i purchased the dvd set on a recommendation fr...\n",
            "10043    who votes in these ratings? \"jacknife\" is a be...\n",
            "10044    three girls, the youngest descendents of the g...\n",
            "10045    alfred hitchcock shows originality in the rema...\n",
            "Name: Sentence, Length: 10046, dtype: object\n"
          ]
        }
      ],
      "source": [
        "processed = processed.str.lower()\n",
        "print(processed)"
      ]
    },
    {
      "cell_type": "code",
      "execution_count": 89,
      "metadata": {
        "id": "P-CPONGqC6ej"
      },
      "outputs": [],
      "source": [
        "from nltk.corpus import stopwords"
      ]
    },
    {
      "cell_type": "code",
      "execution_count": 29,
      "metadata": {
        "colab": {
          "base_uri": "https://localhost:8080/"
        },
        "id": "1Mi5B-pSC8u9",
        "outputId": "96f0cd09-947d-4c36-b572-ff62558bd267"
      },
      "outputs": [
        {
          "output_type": "stream",
          "name": "stderr",
          "text": [
            "[nltk_data] Downloading package stopwords to /root/nltk_data...\n",
            "[nltk_data]   Unzipping corpora/stopwords.zip.\n"
          ]
        },
        {
          "output_type": "execute_result",
          "data": {
            "text/plain": [
              "True"
            ]
          },
          "metadata": {},
          "execution_count": 29
        }
      ],
      "source": [
        "nltk.download('stopwords')"
      ]
    },
    {
      "cell_type": "markdown",
      "source": [
        "We will also remove stopwords because they do not carry significant meaning or contribute valuable information for tasks like sentiment analysis."
      ],
      "metadata": {
        "id": "v_1nh_1T2Z8o"
      }
    },
    {
      "cell_type": "code",
      "execution_count": 30,
      "metadata": {
        "id": "zxxs7Fe3C-HT"
      },
      "outputs": [],
      "source": [
        "stop_words = set(stopwords.words('english'))\n",
        "\n",
        "processed = processed.apply(lambda x: ' '.join(\n",
        "    term for term in x.split() if term not in stop_words))"
      ]
    },
    {
      "cell_type": "code",
      "execution_count": 31,
      "metadata": {
        "id": "zwZajV8XC_uY"
      },
      "outputs": [],
      "source": [
        "ps = nltk.PorterStemmer()\n",
        "\n",
        "processed = processed.apply(lambda x: ' '.join(\n",
        "    ps.stem(term) for term in x.split()))"
      ]
    },
    {
      "cell_type": "code",
      "execution_count": 32,
      "metadata": {
        "colab": {
          "base_uri": "https://localhost:8080/"
        },
        "id": "9qt2LGtnDBZH",
        "outputId": "5f9d3f6f-5245-4ff9-b75d-9d882ca06075"
      },
      "outputs": [
        {
          "output_type": "stream",
          "name": "stdout",
          "text": [
            "0        bad also great heist film. kirk dougla recent ...\n",
            "1        saw recent woodi allen film i'm fan work make ...\n",
            "2        veteran british televis director alan gibson' ...\n",
            "3        enjoy see must start 2 hour movi unconnect bur...\n",
            "4        low-budget film writer goe work london casino ...\n",
            "                               ...                        \n",
            "10041    chokher bali shown (washington) dc filmfest ap...\n",
            "10042    purchas dvd set recommend amazon.com base inte...\n",
            "10043    vote ratings? \"jacknife\" beauti acted, brillia...\n",
            "10044    three girls, youngest descend gaylord family, ...\n",
            "10045    alfr hitchcock show origin remak 1934 british ...\n",
            "Name: Sentence, Length: 10046, dtype: object\n"
          ]
        }
      ],
      "source": [
        "print(processed)"
      ]
    },
    {
      "cell_type": "markdown",
      "source": [
        "Now we will proceed to the tokenization phase. Tokenization is the process of breaking text into smaller units like words, subwords, or characters. This crucial step in NLP transforms raw text into a structured format for algorithms to process. It helps models analyze and understand text better, enabling tasks like sentiment analysis and text classification, while also supporting preprocessing steps like removing stopwords and stemming."
      ],
      "metadata": {
        "id": "gkImdA1g-zE1"
      }
    },
    {
      "cell_type": "code",
      "execution_count": 33,
      "metadata": {
        "id": "UO4jdkLcDDaZ"
      },
      "outputs": [],
      "source": [
        "from nltk.tokenize import word_tokenize"
      ]
    },
    {
      "cell_type": "code",
      "execution_count": 34,
      "metadata": {
        "colab": {
          "base_uri": "https://localhost:8080/"
        },
        "id": "Ie_gQL-3DE_W",
        "outputId": "ba73067c-436f-45f3-88c7-646de5177b01"
      },
      "outputs": [
        {
          "output_type": "stream",
          "name": "stderr",
          "text": [
            "[nltk_data] Downloading package punkt_tab to /root/nltk_data...\n",
            "[nltk_data]   Unzipping tokenizers/punkt_tab.zip.\n"
          ]
        },
        {
          "output_type": "execute_result",
          "data": {
            "text/plain": [
              "True"
            ]
          },
          "metadata": {},
          "execution_count": 34
        }
      ],
      "source": [
        "nltk.download('punkt_tab')"
      ]
    },
    {
      "cell_type": "code",
      "execution_count": 35,
      "metadata": {
        "id": "dTJtD9ktDGVz"
      },
      "outputs": [],
      "source": [
        "tokenized_news = processed.apply(word_tokenize)"
      ]
    },
    {
      "cell_type": "code",
      "execution_count": 36,
      "metadata": {
        "colab": {
          "base_uri": "https://localhost:8080/"
        },
        "id": "6o_sLHJYDHqg",
        "outputId": "2dcedb39-35d6-49a2-b950-6c0b433e578b"
      },
      "outputs": [
        {
          "output_type": "stream",
          "name": "stdout",
          "text": [
            "0    [bad, also, great, heist, film, ., kirk, dougl...\n",
            "1    [saw, recent, woodi, allen, film, i, 'm, fan, ...\n",
            "2    [veteran, british, televis, director, alan, gi...\n",
            "3    [enjoy, see, must, start, 2, hour, movi, uncon...\n",
            "4    [low-budget, film, writer, goe, work, london, ...\n",
            "Name: Sentence, dtype: object\n"
          ]
        }
      ],
      "source": [
        "print(tokenized_news.head())"
      ]
    },
    {
      "cell_type": "markdown",
      "source": [
        "We will also visualize a frequency distribution graph to observe how often certain tokens occur in the dataset."
      ],
      "metadata": {
        "id": "MVIsvZEu_6Cr"
      }
    },
    {
      "cell_type": "code",
      "source": [
        "nltk.FreqDist(tokenized_news.sum()).plot(30,cumulative=False)"
      ],
      "metadata": {
        "colab": {
          "base_uri": "https://localhost:8080/",
          "height": 495
        },
        "id": "kw7aZJOkQM4Z",
        "outputId": "176583c2-3f4b-4f53-f94a-adbf5763f7ab"
      },
      "execution_count": 37,
      "outputs": [
        {
          "output_type": "execute_result",
          "data": {
            "text/plain": [
              "<Axes: xlabel='Samples', ylabel='Counts'>"
            ]
          },
          "metadata": {},
          "execution_count": 37
        },
        {
          "output_type": "display_data",
          "data": {
            "text/plain": [
              "<Figure size 640x480 with 1 Axes>"
            ],
            "image/png": "[encoded data removed]"
          },
          "metadata": {}
        }
      ]
    },
    {
      "cell_type": "markdown",
      "source": [
        "We will now proceed to the vectorization stage. Vectorization converts text into numerical representations for machine learning. Given our dataset of approximately 10k stock market news samples, we use TF-IDF (Term Frequency-Inverse Document Frequency) to focus on the importance of specific terms in each news item while reducing the influence of frequently occurring but less informative words"
      ],
      "metadata": {
        "id": "ACKwLPTQDEQs"
      }
    },
    {
      "cell_type": "code",
      "execution_count": 38,
      "metadata": {
        "colab": {
          "base_uri": "https://localhost:8080/"
        },
        "id": "DaISEP4-DMcl",
        "outputId": "a6fe88ef-085b-4264-aa4e-432dc53e392d"
      },
      "outputs": [
        {
          "output_type": "stream",
          "name": "stdout",
          "text": [
            "TF-IDF Matrix Shape: (10046, 1500)\n",
            "Sample TF-IDF Values:\n",
            " [[0. 0. 0. ... 0. 0. 0.]\n",
            " [0. 0. 0. ... 0. 0. 0.]\n",
            " [0. 0. 0. ... 0. 0. 0.]\n",
            " [0. 0. 0. ... 0. 0. 0.]\n",
            " [0. 0. 0. ... 0. 0. 0.]]\n"
          ]
        }
      ],
      "source": [
        "from sklearn.feature_extraction.text import TfidfVectorizer\n",
        "vectorizer = TfidfVectorizer(max_features=1500)\n",
        "tfidf_matrix = vectorizer.fit_transform(processed)\n",
        "print(\"TF-IDF Matrix Shape:\", tfidf_matrix.shape)\n",
        "print(\"Sample TF-IDF Values:\\n\", tfidf_matrix.toarray()[:5])"
      ]
    },
    {
      "cell_type": "markdown",
      "source": [],
      "metadata": {
        "id": "9Fz0teyvDVMA"
      }
    },
    {
      "cell_type": "markdown",
      "source": [
        "At this point we have clean processed data ready to be trained. From classical machine learning models, we will try Logistic Regression, SVM and Naive Bayes. In all models, we will use stratify in train_test_split to ensure equal representation of both classes in the training and testing sets."
      ],
      "metadata": {
        "id": "4mlA7F7KDJ6G"
      }
    },
    {
      "cell_type": "code",
      "execution_count": 46,
      "metadata": {
        "colab": {
          "base_uri": "https://localhost:8080/"
        },
        "id": "WgNVly8fD2WH",
        "outputId": "964403e3-d6ce-493b-9e41-af2debd1148b"
      },
      "outputs": [
        {
          "output_type": "stream",
          "name": "stdout",
          "text": [
            "Accuracy: 0.86\n",
            "\n",
            "Classification Report:\n",
            "              precision    recall  f1-score   support\n",
            "\n",
            "           0       0.86      0.85      0.86      1008\n",
            "           1       0.85      0.87      0.86      1002\n",
            "\n",
            "    accuracy                           0.86      2010\n",
            "   macro avg       0.86      0.86      0.86      2010\n",
            "weighted avg       0.86      0.86      0.86      2010\n",
            "\n",
            "Mean Cross-Validation Score: 0.85\n"
          ]
        }
      ],
      "source": [
        "#Logistic Regression\n",
        "from sklearn.model_selection import train_test_split, cross_val_score\n",
        "from sklearn.linear_model import LogisticRegression\n",
        "from sklearn.metrics import classification_report, accuracy_score\n",
        "logistic_model = LogisticRegression(max_iter=1000)\n",
        "X_train,X_test,Y_train,Y_test = train_test_split(tfidf_matrix,Y,test_size=0.2,stratify=Y,random_state=42)\n",
        "logistic_model.fit(X_train,Y_train)\n",
        "Y_pred = logistic_model.predict(X_test)\n",
        "accuracy = accuracy_score(Y_test,Y_pred)\n",
        "print(f\"Accuracy: {accuracy:.2f}\")\n",
        "print(\"\\nClassification Report:\")\n",
        "print(classification_report(Y_test, Y_pred))\n",
        "cv_scores = cross_val_score(logistic_model, tfidf_matrix, Y, cv=5)\n",
        "print(f\"Mean Cross-Validation Score: {cv_scores.mean():.2f}\")"
      ]
    },
    {
      "cell_type": "markdown",
      "source": [
        "Logistic Regression is a widely used algorithm for binary classification tasks, such as determining sentiment (negative or positive). We use Logistic Regression because it is simple, efficient, and provides interpretable results, making it an ideal starting point for machine learning projects.\n",
        "\n",
        "Classification Report explained:\n",
        "\n",
        "\n",
        "*   Precision: Measures how many of the predicted positive cases are actually positive\n",
        "\n",
        "*   Recall: Measures how many of the actual positive cases are correctly identified\n",
        "\n",
        "*   F1 Score: The mean of prescision and recall, balancing their trade-off. A high F1 score indicates a better balance between precision and recall, which is critical when both false positive and false negatives matter\n",
        "\n",
        "As we can see for this Logistic Regression model, the metrics show a balanced performance across both classes.\n",
        "\n",
        "\n",
        "\n",
        "\n"
      ],
      "metadata": {
        "id": "xf7BQxQegomq"
      }
    },
    {
      "cell_type": "markdown",
      "source": [
        "Below, we will implement a confusion matrix to evaluate the performance of the classification model. The Confusion Matrix is a table that compares the model's predicted labels with the true labels. Here's how it works:\n",
        "\n",
        "*   Rows represent the true labels (Negative and Positive)\n",
        "*   Columns represent the predicted labels (Negative and Positive)\n",
        "\n",
        "\n"
      ],
      "metadata": {
        "id": "2nBgYKGyjvIL"
      }
    },
    {
      "cell_type": "code",
      "source": [
        "from sklearn.metrics import confusion_matrix, ConfusionMatrixDisplay\n",
        "import matplotlib.pyplot as plt\n",
        "cm = confusion_matrix(Y_test, Y_pred)\n",
        "disp = ConfusionMatrixDisplay(confusion_matrix=cm, display_labels=[\"Negative\", \"Positive\"])\n",
        "disp.plot(cmap=\"Blues\")\n",
        "plt.title(\"Confusion Matrix - Logistic Regression\")\n",
        "plt.show()"
      ],
      "metadata": {
        "colab": {
          "base_uri": "https://localhost:8080/",
          "height": 472
        },
        "id": "VHhbHTgqMTiy",
        "outputId": "ed9775d6-23db-4ffb-c345-9633b01965a1"
      },
      "execution_count": 47,
      "outputs": [
        {
          "output_type": "display_data",
          "data": {
            "text/plain": [
              "<Figure size 640x480 with 2 Axes>"
            ],
            "image/png": "[encoded data removed]"
          },
          "metadata": {}
        }
      ]
    },
    {
      "cell_type": "markdown",
      "source": [
        "For this specific example:\n",
        "\n",
        "1.   Top-left (854): True negatives-correctly predicted negative samples.\n",
        "2.   Top-right(154): False positives-negative samples incorrectly predicted as positive.\n",
        "3.   Bottom-left(134): False negatives-positive samples incorrectly predicted as negative.\n",
        "4.   Bottom-right(868): True positives-correctly predicted positive samples.\n",
        "\n",
        "\n",
        "By visualizing the confusion matrix, you can better understand the types of errors your model makes, such as whether it struggles more with false positives or false negatives.\n",
        "\n"
      ],
      "metadata": {
        "id": "qo1izMvHlEwL"
      }
    },
    {
      "cell_type": "markdown",
      "source": [
        "\n",
        "\n",
        "\n",
        "The following lines of code identify misclassified samples from the Logistic Regression model. These are sentences where the model's predicted label differs from the true label."
      ],
      "metadata": {
        "id": "nEhbZ2bJm6Ya"
      }
    },
    {
      "cell_type": "code",
      "source": [
        "test_indices = y_test.index\n",
        "df_errors_logistic = pd.DataFrame({\n",
        "    'Text': df.loc[test_indices, 'Sentence'],\n",
        "    'True_Label': y_test.values,\n",
        "    'Predicted_Label': y_pred_logistic})\n",
        "df_misclassified_logistic = df_errors_logistic[df_errors_logistic['True_Label'] != df_errors_logistic['Predicted_Label']]\n",
        "print(\"Misclassified Samples (Logistic Regression):\")\n",
        "print(df_misclassified_logistic)\n"
      ],
      "metadata": {
        "colab": {
          "base_uri": "https://localhost:8080/"
        },
        "id": "Yn_w6GF9JsRt",
        "outputId": "9b6941a2-5a87-4b14-ad11-0a0c89b41052"
      },
      "execution_count": 55,
      "outputs": [
        {
          "output_type": "stream",
          "name": "stdout",
          "text": [
            "Misclassified Samples (Logistic Regression):\n",
            "                                                   Text True_Label  \\\n",
            "357   I bought this DVD as part of a set of 50 \"hist...   negative   \n",
            "5236  Casting unknown Michelle Rodriguez as Diana wa...   positive   \n",
            "9932  This is by far my favorite film of all time. T...   positive   \n",
            "4496  I rented this film out having heard of the fus...   negative   \n",
            "1761  I think it's a great movie!! It's fun, maybe a...   negative   \n",
            "...                                                 ...        ...   \n",
            "1585  Found this film in a DVD discount rack for $10...   negative   \n",
            "2928  Many people like to point to this TV movie whe...   negative   \n",
            "853   Your time and brains will be much better spent...   negative   \n",
            "6692  This movie is plain fun.I has nothing to do wi...   positive   \n",
            "5927  The film begins with a cranky old Broadway pro...   positive   \n",
            "\n",
            "     Predicted_Label  \n",
            "357         positive  \n",
            "5236        negative  \n",
            "9932        negative  \n",
            "4496        positive  \n",
            "1761        positive  \n",
            "...              ...  \n",
            "1585        positive  \n",
            "2928        positive  \n",
            "853         positive  \n",
            "6692        negative  \n",
            "5927        negative  \n",
            "\n",
            "[288 rows x 3 columns]\n"
          ]
        }
      ]
    },
    {
      "cell_type": "markdown",
      "source": [
        "For example, sentences containing words like 'DVD,' 'TV,' 'movie,' or 'film' seem to be commonly misclassified. This suggests that the model might struggle with these contexts. Perhaps if we remove these words, our model might perform slightly better."
      ],
      "metadata": {
        "id": "HFDXkhc2n4b8"
      }
    },
    {
      "cell_type": "code",
      "execution_count": 56,
      "metadata": {
        "colab": {
          "base_uri": "https://localhost:8080/"
        },
        "id": "joPxHDWbIQk0",
        "outputId": "8592e2b4-f17b-4e6e-cabc-b2c1aa1fd411"
      },
      "outputs": [
        {
          "output_type": "stream",
          "name": "stdout",
          "text": [
            "Accuracy: 0.84\n",
            "\n",
            "Classification Report:\n",
            "              precision    recall  f1-score   support\n",
            "\n",
            "           0       0.85      0.83      0.84      1008\n",
            "           1       0.83      0.86      0.85      1002\n",
            "\n",
            "    accuracy                           0.84      2010\n",
            "   macro avg       0.84      0.84      0.84      2010\n",
            "weighted avg       0.84      0.84      0.84      2010\n",
            "\n",
            "\n",
            "Cross-Validation Scores: [0.85820896 0.84021901 0.84868094 0.83026381 0.84121453]\n",
            "Mean Cross-Validation Score: 0.84\n"
          ]
        }
      ],
      "source": [
        "#SVM\n",
        "from sklearn.svm import SVC\n",
        "svm_model = SVC(kernel= 'linear', random_state=42)\n",
        "svm_model.fit(X_train, Y_train)\n",
        "Y_pred = svm_model.predict(X_test)\n",
        "accuracy = accuracy_score(Y_test,Y_pred)\n",
        "print(f\"Accuracy: {accuracy:.2f}\")\n",
        "print(\"\\nClassification Report:\")\n",
        "print(classification_report(Y_test, Y_pred))\n",
        "cv_scores = cross_val_score(svm_model, tfidf_matrix, Y, cv=5)\n",
        "print(\"\\nCross-Validation Scores:\", cv_scores)\n",
        "print(f\"Mean Cross-Validation Score: {cv_scores.mean():.2f}\")"
      ]
    },
    {
      "cell_type": "code",
      "source": [
        "cm = confusion_matrix(Y_test, Y_pred)\n",
        "disp = ConfusionMatrixDisplay(confusion_matrix=cm, display_labels=[\"Negative\", \"Positive\"])\n",
        "disp.plot(cmap=\"Reds\")\n",
        "plt.title(\"Confusion Matrix - SVM\")\n",
        "plt.show()"
      ],
      "metadata": {
        "colab": {
          "base_uri": "https://localhost:8080/",
          "height": 472
        },
        "id": "1LEM7AT8Os5q",
        "outputId": "58fd08b2-3d31-4a4b-95d8-bfd373e340ba"
      },
      "execution_count": 62,
      "outputs": [
        {
          "output_type": "display_data",
          "data": {
            "text/plain": [
              "<Figure size 640x480 with 2 Axes>"
            ],
            "image/png": "[encoded data removed]"
          },
          "metadata": {}
        }
      ]
    },
    {
      "cell_type": "markdown",
      "source": [
        "This confusion matrix visualizes the performance of the SVM model. As we can observe, SVM also performed fairly well, but its performance is slightly lower than Logistic Regression in terms of correctly identifying both negative and positive classes. Specifically, the misclassifications (170 false positives and 144 false negatives) indicate areas where the SVM model struggled compared to Logistic Regression."
      ],
      "metadata": {
        "id": "ZAPkIp1vo2W0"
      }
    },
    {
      "cell_type": "code",
      "execution_count": 65,
      "metadata": {
        "colab": {
          "base_uri": "https://localhost:8080/"
        },
        "id": "gzf0pja_uSZS",
        "outputId": "1b53ea22-6a48-4536-bcb8-4de448570530"
      },
      "outputs": [
        {
          "output_type": "stream",
          "name": "stdout",
          "text": [
            "Accuracy: 0.84\n",
            "\n",
            "Classification Report:\n",
            "              precision    recall  f1-score   support\n",
            "\n",
            "           0       0.85      0.83      0.84      1008\n",
            "           1       0.83      0.85      0.84      1002\n",
            "\n",
            "    accuracy                           0.84      2010\n",
            "   macro avg       0.84      0.84      0.84      2010\n",
            "weighted avg       0.84      0.84      0.84      2010\n",
            "\n",
            "Cross-Validation Scores: [0.8528827  0.8528827  0.8111332  0.83101392 0.82902584 0.84294235\n",
            " 0.82071713 0.8187251  0.84262948 0.83665339 0.83466135 0.81075697\n",
            " 0.80677291 0.82270916 0.85059761 0.83466135 0.83266932 0.83665339\n",
            " 0.812749   0.86055777]\n",
            "Mean Cross-Validation Score: 0.83\n"
          ]
        }
      ],
      "source": [
        "#Naive Bayes\n",
        "from sklearn.naive_bayes import MultinomialNB\n",
        "nb_model = MultinomialNB()\n",
        "nb_model.fit(X_train, Y_train)\n",
        "Y_pred = nb_model.predict(X_test)\n",
        "cv_scores = cross_val_score(nb_model, tfidf_matrix, Y ,cv=20)\n",
        "accuracy = accuracy_score(Y_test, Y_pred)\n",
        "print(f\"Accuracy: {accuracy:.2f}\")\n",
        "print(\"\\nClassification Report:\")\n",
        "print(classification_report(Y_test, Y_pred))\n",
        "print(\"Cross-Validation Scores:\", cv_scores)\n",
        "print(f\"Mean Cross-Validation Score: {cv_scores.mean():.2f}\")"
      ]
    },
    {
      "cell_type": "code",
      "source": [
        "cm = confusion_matrix(Y_test, Y_pred)\n",
        "disp = ConfusionMatrixDisplay(confusion_matrix=cm, display_labels=[\"Negative\", \"Positive\"])\n",
        "disp.plot(cmap=\"BuPu\")\n",
        "plt.title(\"Confusion Matrix - Logistic Regression\")\n",
        "plt.show()"
      ],
      "metadata": {
        "colab": {
          "base_uri": "https://localhost:8080/",
          "height": 472
        },
        "id": "BHvnnI6mOwCm",
        "outputId": "de803829-d713-455f-8bb5-28ca6baf1fde"
      },
      "execution_count": 68,
      "outputs": [
        {
          "output_type": "display_data",
          "data": {
            "text/plain": [
              "<Figure size 640x480 with 2 Axes>"
            ],
            "image/png": "[encoded data removed]"
          },
          "metadata": {}
        }
      ]
    },
    {
      "cell_type": "markdown",
      "source": [
        "The confusion matrix for the Naive Bayes model shows its ability to classify negative and positive samples. While it performs fairly well, it has more misclassifications compared to Logistic Regression and SVM. Specifically, it misclassifies 190 negative samples as positive and 160 positive samples as negative."
      ],
      "metadata": {
        "id": "2vuS_JbPrX8W"
      }
    },
    {
      "cell_type": "markdown",
      "metadata": {
        "id": "O8YXECrtoUrm"
      },
      "source": [
        "**DEEP LEARNING**"
      ]
    },
    {
      "cell_type": "markdown",
      "source": [
        "We will now continue with the exploration of deep learning models. In this project, I utilized two different architectures: an LSTM model and a CNN+GRU hybrid model"
      ],
      "metadata": {
        "id": "rOAIOgtbtF4L"
      }
    },
    {
      "cell_type": "code",
      "execution_count": null,
      "metadata": {
        "colab": {
          "base_uri": "https://localhost:8080/"
        },
        "id": "cd_gNZWYuVe-",
        "outputId": "36d36b85-55c5-4bce-dc10-795444297edc"
      },
      "outputs": [
        {
          "output_type": "stream",
          "name": "stdout",
          "text": [
            "Epoch 1/5\n",
            "\u001b[1m452/452\u001b[0m \u001b[32m━━━━━━━━━━━━━━━━━━━━\u001b[0m\u001b[37m\u001b[0m \u001b[1m83s\u001b[0m 168ms/step - accuracy: 0.6361 - loss: 0.6133 - val_accuracy: 0.8085 - val_loss: 0.4086\n",
            "Epoch 2/5\n",
            "\u001b[1m452/452\u001b[0m \u001b[32m━━━━━━━━━━━━━━━━━━━━\u001b[0m\u001b[37m\u001b[0m \u001b[1m73s\u001b[0m 161ms/step - accuracy: 0.8763 - loss: 0.3168 - val_accuracy: 0.8147 - val_loss: 0.4202\n",
            "Epoch 3/5\n",
            "\u001b[1m452/452\u001b[0m \u001b[32m━━━━━━━━━━━━━━━━━━━━\u001b[0m\u001b[37m\u001b[0m \u001b[1m80s\u001b[0m 157ms/step - accuracy: 0.9388 - loss: 0.1803 - val_accuracy: 0.8047 - val_loss: 0.5619\n",
            "Epoch 4/5\n",
            "\u001b[1m452/452\u001b[0m \u001b[32m━━━━━━━━━━━━━━━━━━━━\u001b[0m\u001b[37m\u001b[0m \u001b[1m82s\u001b[0m 157ms/step - accuracy: 0.9543 - loss: 0.1310 - val_accuracy: 0.7935 - val_loss: 0.6380\n",
            "Epoch 5/5\n",
            "\u001b[1m452/452\u001b[0m \u001b[32m━━━━━━━━━━━━━━━━━━━━\u001b[0m\u001b[37m\u001b[0m \u001b[1m80s\u001b[0m 153ms/step - accuracy: 0.9685 - loss: 0.0920 - val_accuracy: 0.8022 - val_loss: 0.7343\n",
            "\u001b[1m63/63\u001b[0m \u001b[32m━━━━━━━━━━━━━━━━━━━━\u001b[0m\u001b[37m\u001b[0m \u001b[1m6s\u001b[0m 82ms/step\n",
            "Accuracy: 0.7796\n",
            "Precision: 0.8355\n",
            "Recall: 0.6946\n",
            "F1-Score: 0.7586\n"
          ]
        }
      ],
      "source": [
        "#LSTM Model\n",
        "import tensorflow as tf\n",
        "from tensorflow.keras.models import Sequential\n",
        "from tensorflow.keras.layers import Embedding, LSTM, Dense, Dropout, Bidirectional\n",
        "from tensorflow.keras.preprocessing.text import Tokenizer\n",
        "from tensorflow.keras.preprocessing.sequence import pad_sequences\n",
        "from sklearn.model_selection import train_test_split\n",
        "from sklearn.metrics import accuracy_score, precision_recall_fscore_support\n",
        "texts = df['Sentence']\n",
        "labels = df['Sentiment']\n",
        "tokenizer = Tokenizer(num_words=5000)\n",
        "tokenizer.fit_on_texts(texts)\n",
        "X = tokenizer.texts_to_sequences(texts)\n",
        "X = pad_sequences(X, maxlen=100)\n",
        "X_train, X_test, y_train, y_test = train_test_split(X, labels, test_size=0.2, random_state=42, stratify=labels)\n",
        "\n",
        "model = Sequential([\n",
        "    Embedding(input_dim=5000, output_dim=128),\n",
        "    Bidirectional(LSTM(64, return_sequences=True)),\n",
        "    Dropout(0.5),\n",
        "    LSTM(32),\n",
        "    Dense(32, activation='relu'),\n",
        "    Dropout(0.5),\n",
        "    Dense(1, activation='sigmoid')\n",
        "])\n",
        "model.compile(optimizer='adam', loss='binary_crossentropy', metrics=['accuracy']) #Train the model\n",
        "history = model.fit(X_train, y_train, epochs=5, batch_size=16, validation_split=0.1)\n",
        "y_pred_prob = model.predict(X_test) #Predict probabilites\n",
        "y_pred = (y_pred_prob > 0.5).astype(int) #Convert probabilities to binary predictions\n",
        "accuracy = accuracy_score(y_test, y_pred) #Calculate evaluation metrics\n",
        "precision, recall, f1, _ = precision_recall_fscore_support(y_test, y_pred, average='binary')\n",
        "print(f\"Accuracy: {accuracy:.4f}\")\n",
        "print(f\"Precision: {precision:.4f}\")\n",
        "print(f\"Recall: {recall:.4f}\")\n",
        "print(f\"F1-Score: {f1:.4f}\")\n"
      ]
    },
    {
      "cell_type": "markdown",
      "source": [
        "I trained the dataset for 5 epochs, and the results were slightly below those of the classical models. Perhaps if I had increased the number of epochs, deep learning, in general, has the potential to achieve stronger results compared to classical models. However, due to limited computational resources and time constraints, it was challenging to achieve better results."
      ],
      "metadata": {
        "id": "_2NzBH1htzsM"
      }
    },
    {
      "cell_type": "code",
      "source": [
        "#CNN&GRU Model\n",
        "import torch\n",
        "import torch.nn as nn\n",
        "import torch.optim as optim\n",
        "from sklearn.model_selection import train_test_split\n",
        "from sklearn.metrics import accuracy_score, precision_recall_fscore_support\n",
        "from torch.utils.data import DataLoader, Dataset\n",
        "from transformers import AutoTokenizer\n",
        "print(df['Sentiment'].value_counts())\n",
        "df['Sentiment'] = df['Sentiment'].map({'positive': 1, 'negative': 0})\n",
        "X = df['Sentence'].tolist()\n",
        "y = df['Sentiment'].tolist()\n",
        "X_train, X_test, y_train, y_test = train_test_split(X, y, test_size=0.2, stratify=y, random_state=42)\n",
        "tokenizer = AutoTokenizer.from_pretrained(\"bert-base-uncased\")\n",
        "class SentimentDataset(Dataset):\n",
        "    def __init__(self, texts, labels, tokenizer, max_len):\n",
        "        self.texts = texts\n",
        "        self.labels = labels\n",
        "        self.tokenizer = tokenizer\n",
        "        self.max_len = max_len\n",
        "\n",
        "    def __len__(self):\n",
        "        return len(self.texts)\n",
        "\n",
        "    def __getitem__(self, idx):\n",
        "        text = self.texts[idx]\n",
        "        label = self.labels[idx]\n",
        "        encoding = self.tokenizer(\n",
        "            text,\n",
        "            max_length=self.max_len,\n",
        "            padding=\"max_length\",\n",
        "            truncation=True,\n",
        "            return_tensors=\"pt\",\n",
        "        )\n",
        "        return {\n",
        "            \"input_ids\": encoding[\"input_ids\"].squeeze(0),\n",
        "            \"attention_mask\": encoding[\"attention_mask\"].squeeze(0),\n",
        "            \"labels\": torch.tensor(label, dtype=torch.float),\n",
        "        }\n",
        "\n",
        "train_dataset = SentimentDataset(X_train, y_train, tokenizer, max_len=128)\n",
        "test_dataset = SentimentDataset(X_test, y_test, tokenizer, max_len=128)\n",
        "\n",
        "train_loader = DataLoader(train_dataset, batch_size=16, shuffle=True)\n",
        "test_loader = DataLoader(test_dataset, batch_size=16)\n",
        "\n",
        "class CNN_GRU_Model(nn.Module):\n",
        "    def __init__(self, vocab_size, embedding_dim, hidden_dim, output_dim, num_filters, kernel_sizes):\n",
        "        super(CNN_GRU_Model, self).__init__()\n",
        "        self.embedding = nn.Embedding(vocab_size, embedding_dim)\n",
        "        self.convs = nn.ModuleList([\n",
        "            nn.Conv2d(1, num_filters, (k, embedding_dim)) for k in kernel_sizes\n",
        "        ])\n",
        "        self.gru = nn.GRU(num_filters, hidden_dim, batch_first=True)\n",
        "        self.fc = nn.Linear(hidden_dim, output_dim)\n",
        "        self.dropout = nn.Dropout(0.5)\n",
        "\n",
        "    def forward(self, x):\n",
        "        x = self.embedding(x).unsqueeze(1)\n",
        "        x = [torch.relu(conv(x)).squeeze(3) for conv in self.convs]\n",
        "        x = [torch.max_pool1d(c, c.size(2)).squeeze(2) for c in x]\n",
        "        x = torch.stack(x, dim=1)\n",
        "        _, hidden = self.gru(x)\n",
        "        hidden = self.dropout(hidden.squeeze(0))\n",
        "        return self.fc(hidden)\n",
        "\n",
        "\n",
        "vocab_size = len(tokenizer.vocab) #Define Hyperparameters\n",
        "embedding_dim = 50\n",
        "hidden_dim = 128\n",
        "output_dim = 1\n",
        "num_filters = 100\n",
        "kernel_sizes = [3, 4, 5]\n",
        "model = CNN_GRU_Model(vocab_size, embedding_dim, hidden_dim, output_dim, num_filters, kernel_sizes)\n",
        "device = torch.device(\"cuda\" if torch.cuda.is_available() else \"cpu\")\n",
        "model = model.to(device)\n",
        "criterion = nn.BCEWithLogitsLoss()\n",
        "optimizer = optim.Adam(model.parameters(), lr=0.001)\n",
        "\n",
        "#Train and Evaluate Functions\n",
        "def train_model(model, train_loader, criterion, optimizer, num_epochs=5):\n",
        "    model.train()\n",
        "    for epoch in range(num_epochs):\n",
        "        epoch_loss = 0\n",
        "        correct = 0\n",
        "        total = 0\n",
        "        for batch in train_loader:\n",
        "            input_ids = batch[\"input_ids\"].to(device)\n",
        "            labels = batch[\"labels\"].to(device)\n",
        "            optimizer.zero_grad()\n",
        "            outputs = model(input_ids).squeeze(1)\n",
        "            loss = criterion(outputs, labels)\n",
        "            loss.backward()\n",
        "            optimizer.step()\n",
        "            epoch_loss += loss.item()\n",
        "            preds = torch.round(torch.sigmoid(outputs))\n",
        "            correct += (preds == labels).sum().item()\n",
        "            total += labels.size(0)\n",
        "        print(f\"Epoch {epoch+1}/{num_epochs}, Loss: {epoch_loss/len(train_loader):.4f}, Accuracy: {correct/total:.4f}\")\n",
        "\n",
        "def evaluate_model(model, test_loader):\n",
        "    model.eval()\n",
        "    predictions, true_labels = [], []\n",
        "    with torch.no_grad():\n",
        "        for batch in test_loader:\n",
        "            input_ids = batch[\"input_ids\"].to(device)\n",
        "            labels = batch[\"labels\"].to(device)\n",
        "            outputs = model(input_ids).squeeze(1)\n",
        "            preds = torch.round(torch.sigmoid(outputs))\n",
        "            predictions.extend(preds.cpu().numpy())\n",
        "            true_labels.extend(labels.cpu().numpy())\n",
        "    acc = accuracy_score(true_labels, predictions)\n",
        "    precision, recall, f1, _ = precision_recall_fscore_support(true_labels, predictions, average=\"binary\")\n",
        "    print(f\"Accuracy: {acc:.4f}, Precision: {precision:.4f}, Recall: {recall:.4f}, F1 Score: {f1:.4f}\")\n",
        "\n",
        "#Train and Evaluate\n",
        "train_model(model, train_loader, criterion, optimizer, num_epochs=3)\n",
        "evaluate_model(model, test_loader)"
      ],
      "metadata": {
        "colab": {
          "base_uri": "https://localhost:8080/",
          "height": 388,
          "referenced_widgets": [
            "98784c8a05004ef79ad5ec752548fff7",
            "9cdf949a17f14ad098a80e8d24fb7ac2",
            "2cd549c2b32f43e7868ebdb52231568e",
            "2138b2fb1a0344ae9e63d0b6f81060f9",
            "4c70b6b2bff644b696dcad4ac1e94828",
            "8e13d753ddd54fcf99f3d4e4c8d5e09d",
            "ea29a5f3d5d74844b7dda3b535923fe1",
            "9ddda59ca78d41338a1cb6c072fbec82",
            "cea45b3c00344627ae853667470e029e",
            "76c0eb88cc3f4c8c80030e1f7eb0c0e1",
            "f9e85c2eb7c54d41a4bb197a05897a27",
            "ef1f248571374b44bea563a9eebf15bf",
            "2c917a68b2804153815bb77724cce1fa",
            "1a7cff16d02d4fb9bf159ff5257a2d51",
            "0deee9d7fe4249c58a454f169738088a",
            "fe27f4acf1ff42e6a4cf3ff03369c5c1",
            "ba427e9cbd284b3c8dee8e957275111b",
            "e4048a4b8f5e43aaa0532afafe2e0770",
            "1efe98431dc04e9080e944bd1b00d22d",
            "fe65cd8a78eb41ceb244975cdd431ae6",
            "00982c3cabe04744a3aea9b1f31db8e2",
            "a34dfa2426e748a293b7808e629a1407",
            "d3bbc54699d74f9b997efc6c97d360aa",
            "b57c2896dcaa467a8e3825d00b91e720",
            "e4e9233522234df899f5bab0977ff4a7",
            "01a1843022114e2488e554effa36ecb3",
            "2b5b6e1207aa4bfab8c0152b38397373",
            "ec8bde58a14f48389d14248762a6de5f",
            "8bef12c1f1fc43c49b1df3e5d4866ab9",
            "b8d68f9c2a094c7b9a5dd9120287f794",
            "dbbbec229368425f95933b6f1c12ebe5",
            "3a688f223be7406d9bdafa1a8a75fb27",
            "8a6aabc431394648ba2e96e00d31557a",
            "81cf542f5f414aa9ac8545db672165d6",
            "b69c8bb93a844e54bd97bb39b242f276",
            "3186b8f5ac514fdda17a4c5efa3f1f6a",
            "1b0345b24f154f56b5d64f098483a1c0",
            "fe1ead2af3eb40e7a8c405f18b6e1d3d",
            "90e786efbd674bf08374364cbb8c4444",
            "772b6b4f77534632a294b1467239d399",
            "86d0c6913f7d4841bdd20015b6505bc1",
            "e5661e5d4cb94ee88f16fbebb7d580b2",
            "05222a6e7fe24ca2867f8e18ff650fac",
            "cf2f08b14eb245989886dfecda1c0d86"
          ]
        },
        "id": "DqXDQ0-U5uK7",
        "outputId": "0161cd48-417b-48b8-8391-98dba75b6041"
      },
      "execution_count": null,
      "outputs": [
        {
          "output_type": "stream",
          "name": "stdout",
          "text": [
            "Sentiment\n",
            "negative    5038\n",
            "positive    5008\n",
            "Name: count, dtype: int64\n"
          ]
        },
        {
          "output_type": "stream",
          "name": "stderr",
          "text": [
            "/usr/local/lib/python3.11/dist-packages/huggingface_hub/utils/_auth.py:94: UserWarning: \n",
            "The secret `HF_TOKEN` does not exist in your Colab secrets.\n",
            "To authenticate with the Hugging Face Hub, create a token in your settings tab (https://huggingface.co/settings/tokens), set it as secret in your Google Colab and restart your session.\n",
            "You will be able to reuse this secret in all of your notebooks.\n",
            "Please note that authentication is recommended but still optional to access public models or datasets.\n",
            "  warnings.warn(\n"
          ]
        },
        {
          "output_type": "display_data",
          "data": {
            "text/plain": [
              "tokenizer_config.json:   0%|          | 0.00/48.0 [00:00<?, ?B/s]"
            ],
            "application/vnd.jupyter.widget-view+json": {
              "version_major": 2,
              "version_minor": 0,
              "model_id": "98784c8a05004ef79ad5ec752548fff7"
            }
          },
          "metadata": {}
        },
        {
          "output_type": "display_data",
          "data": {
            "text/plain": [
              "config.json:   0%|          | 0.00/570 [00:00<?, ?B/s]"
            ],
            "application/vnd.jupyter.widget-view+json": {
              "version_major": 2,
              "version_minor": 0,
              "model_id": "ef1f248571374b44bea563a9eebf15bf"
            }
          },
          "metadata": {}
        },
        {
          "output_type": "display_data",
          "data": {
            "text/plain": [
              "vocab.txt:   0%|          | 0.00/232k [00:00<?, ?B/s]"
            ],
            "application/vnd.jupyter.widget-view+json": {
              "version_major": 2,
              "version_minor": 0,
              "model_id": "d3bbc54699d74f9b997efc6c97d360aa"
            }
          },
          "metadata": {}
        },
        {
          "output_type": "display_data",
          "data": {
            "text/plain": [
              "tokenizer.json:   0%|          | 0.00/466k [00:00<?, ?B/s]"
            ],
            "application/vnd.jupyter.widget-view+json": {
              "version_major": 2,
              "version_minor": 0,
              "model_id": "81cf542f5f414aa9ac8545db672165d6"
            }
          },
          "metadata": {}
        },
        {
          "output_type": "stream",
          "name": "stdout",
          "text": [
            "Epoch 1/3, Loss: 0.6937, Accuracy: 0.5238\n",
            "Epoch 2/3, Loss: 0.5760, Accuracy: 0.6979\n",
            "Epoch 3/3, Loss: 0.4050, Accuracy: 0.8255\n",
            "Accuracy: 0.7468, Precision: 0.7285, Recall: 0.7844, F1 Score: 0.7554\n"
          ]
        }
      ]
    },
    {
      "cell_type": "markdown",
      "source": [
        "From the CNN+GRU hybrid model, we observe lower accuracy and precision compared to the LSTM model, but it achieves slightly higher recall while maintaining the same F1-score of 0.76. This indicates that while CNN+GRU can identify a few more true positives (higher recall), it sacrifices precision, meaning there are more false positives. The overall F1-score, which balances precision and recall, remains unchanged compared to LSTM."
      ],
      "metadata": {
        "id": "kI515m6ou4ry"
      }
    },
    {
      "cell_type": "markdown",
      "source": [
        "BERT and some of its alternatives (DistilBERT, ALBERT) were attempted; however, I faced significant computational and time constraints. When one of these models finally ran, the results were even lower than expected, so I decided not to include that model in this project. Additionally, the lower performance of deep learning models compared to classical ones might be attributed to suboptimal configurations and, more likely, overfitting. The dataset I used contained 10,000 samples, which is considered relatively small for deep learning algorithms. Once again, due to time limitations and computational constraints, I was unable to explore this further"
      ],
      "metadata": {
        "id": "pXs3C8-EvlkM"
      }
    },
    {
      "cell_type": "markdown",
      "source": [
        "We will now compare the results of the classical and deep learning models by creating a dataframe. The rows will represent metrics such as accuracy, precision, recall, and F1-score for each model. This visualization will help us better understand the performance differences across the models."
      ],
      "metadata": {
        "id": "PZMmnSqZwnUS"
      }
    },
    {
      "cell_type": "code",
      "source": [
        " data = {\"Model\": [\"Logistic Regression\", \"SVM\", \"Naive Bayes\", \"LSTM\", \"CNN-GRU\"],\n",
        "    \"Accuracy\": [0.85, 0.84, 0.83, 0.78, 0.74],\n",
        "    \"Precision\": [0.86, 0.84, 0.84, 0.84, 0.73],\n",
        "    \"Recall\": [0.86, 0.84, 0.84, 0.69, 0.78],\n",
        "    \"F1-Score\": [0.86, 0.84, 0.84, 0.76, 0.76],}\n"
      ],
      "metadata": {
        "id": "nDlKDj4m85gc"
      },
      "execution_count": null,
      "outputs": []
    },
    {
      "cell_type": "code",
      "source": [
        "df_metrics = pd.DataFrame(data)\n",
        "print(df_metrics)"
      ],
      "metadata": {
        "colab": {
          "base_uri": "https://localhost:8080/"
        },
        "id": "c8gYx_h-9AGN",
        "outputId": "0fed7c60-5ec1-4d96-c4dc-5a5127e7e3e9"
      },
      "execution_count": null,
      "outputs": [
        {
          "output_type": "stream",
          "name": "stdout",
          "text": [
            "                 Model  Accuracy  Precision  Recall  F1-Score\n",
            "0  Logistic Regression      0.85       0.86    0.86      0.86\n",
            "1                  SVM      0.84       0.84    0.84      0.84\n",
            "2          Naive Bayes      0.83       0.84    0.84      0.84\n",
            "3                 LSTM      0.78       0.84    0.69      0.76\n",
            "4              CNN-GRU      0.74       0.73    0.78      0.76\n"
          ]
        }
      ]
    },
    {
      "cell_type": "code",
      "source": [
        "models = df_metrics['Model'] #Data visualization\n",
        "accuracy = df_metrics['Accuracy']\n",
        "precision = df_metrics['Precision']\n",
        "recall = df_metrics['Recall']\n",
        "f1_score = df_metrics['F1-Score']\n",
        "x = np.arange(len(models))\n",
        "width = 0.2  #Width of the bars\n",
        "fig, ax = plt.subplots(figsize=(10, 6))\n",
        "rects1 = ax.bar(x - width*1.5, accuracy, width, label='Accuracy')\n",
        "rects2 = ax.bar(x - width/2, precision, width, label='Precision')\n",
        "rects3 = ax.bar(x + width/2, recall, width, label='Recall')\n",
        "rects4 = ax.bar(x + width*1.5, f1_score, width, label='F1-Score')\n",
        "ax.set_xlabel('Models') #Labels, title, and legend\n",
        "ax.set_ylabel('Scores')\n",
        "ax.set_title('Model Performance Comparison')\n",
        "ax.set_xticks(x)\n",
        "ax.set_xticklabels(models)\n",
        "ax.legend()\n",
        "def add_labels(rects):\n",
        "    for rect in rects:\n",
        "        height = rect.get_height()\n",
        "        ax.annotate(f'{height:.2f}',\n",
        "                    xy=(rect.get_x() + rect.get_width() / 2, height),\n",
        "                    xytext=(0, 3),\n",
        "                    textcoords=\"offset points\",\n",
        "                    ha='center', va='bottom')\n",
        "add_labels(rects1)\n",
        "add_labels(rects2)\n",
        "add_labels(rects3)\n",
        "add_labels(rects4)\n",
        "\n",
        "plt.tight_layout() #Show plot\n",
        "plt.show()\n"
      ],
      "metadata": {
        "colab": {
          "base_uri": "https://localhost:8080/",
          "height": 607
        },
        "id": "Rqnstq3i_H-8",
        "outputId": "7823e335-9bbf-43a7-891c-a0c37ccaae01"
      },
      "execution_count": null,
      "outputs": [
        {
          "output_type": "display_data",
          "data": {
            "text/plain": [
              "<Figure size 1000x600 with 1 Axes>"
            ],
            "image/png": "[encoded data removed]"
          },
          "metadata": {}
        }
      ]
    },
    {
      "cell_type": "markdown",
      "source": [
        "As we can observe, Logistic Regression performed better than all the other models, including both classical and deep learning models, in terms of accuracy, precision, recall, and F1-score. It demonstrated a well-balanced performance across both positive and negative classes, making it the most reliable choice for this dataset.\n",
        "\n",
        "SVM followed closely behind Logistic Regression with only marginally lower scores across all metrics. Naive Bayes also performed competitively, achieving consistent results, though slightly below the top performers.\n",
        "\n",
        "On the other hand, deep learning models, such as LSTM and the CNN-GRU hybrid, showed lower performance compared to classical models. While LSTM achieved a better F1-score compared to CNN-GRU, the CNN-GRU model showed higher recall. The relatively weaker performance of these deep learning models could be attributed to limited computational resources, insufficient training epochs, and the relatively small dataset of 10k samples, which might not have been large enough to fully leverage the potential of deep learning algorithms.\n",
        "\n",
        "This analysis highlights the robustness and efficiency of classical models for datasets of this scale and complexity. However, with more resources and tuning, deep learning models could potentially surpass these results.\n",
        "\n"
      ],
      "metadata": {
        "id": "nBs8B0smxTrO"
      }
    },
    {
      "cell_type": "markdown",
      "source": [
        "Thanks for your time."
      ],
      "metadata": {
        "id": "VLiDqMEFx4xe"
      }
    }
  ],
  "metadata": {
    "colab": {
      "provenance": []
    },
    "kernelspec": {
      "display_name": "Python 3",
      "name": "python3"
    },
    "language_info": {
      "name": "python"
    },
    "widgets": {
      "application/vnd.jupyter.widget-state+json": {
        "98784c8a05004ef79ad5ec752548fff7": {
          "model_module": "@jupyter-widgets/controls",
          "model_name": "HBoxModel",
          "model_module_version": "1.5.0",
          "state": {
            "_dom_classes": [],
            "_model_module": "@jupyter-widgets/controls",
            "_model_module_version": "1.5.0",
            "_model_name": "HBoxModel",
            "_view_count": null,
            "_view_module": "@jupyter-widgets/controls",
            "_view_module_version": "1.5.0",
            "_view_name": "HBoxView",
            "box_style": "",
            "children": [
              "IPY_MODEL_9cdf949a17f14ad098a80e8d24fb7ac2",
              "IPY_MODEL_2cd549c2b32f43e7868ebdb52231568e",
              "IPY_MODEL_2138b2fb1a0344ae9e63d0b6f81060f9"
            ],
            "layout": "IPY_MODEL_4c70b6b2bff644b696dcad4ac1e94828"
          }
        },
        "9cdf949a17f14ad098a80e8d24fb7ac2": {
          "model_module": "@jupyter-widgets/controls",
          "model_name": "HTMLModel",
          "model_module_version": "1.5.0",
          "state": {
            "_dom_classes": [],
            "_model_module": "@jupyter-widgets/controls",
            "_model_module_version": "1.5.0",
            "_model_name": "HTMLModel",
            "_view_count": null,
            "_view_module": "@jupyter-widgets/controls",
            "_view_module_version": "1.5.0",
            "_view_name": "HTMLView",
            "description": "",
            "description_tooltip": null,
            "layout": "IPY_MODEL_8e13d753ddd54fcf99f3d4e4c8d5e09d",
            "placeholder": "​",
            "style": "IPY_MODEL_ea29a5f3d5d74844b7dda3b535923fe1",
            "value": "tokenizer_config.json: 100%"
          }
        },
        "2cd549c2b32f43e7868ebdb52231568e": {
          "model_module": "@jupyter-widgets/controls",
          "model_name": "FloatProgressModel",
          "model_module_version": "1.5.0",
          "state": {
            "_dom_classes": [],
            "_model_module": "@jupyter-widgets/controls",
            "_model_module_version": "1.5.0",
            "_model_name": "FloatProgressModel",
            "_view_count": null,
            "_view_module": "@jupyter-widgets/controls",
            "_view_module_version": "1.5.0",
            "_view_name": "ProgressView",
            "bar_style": "success",
            "description": "",
            "description_tooltip": null,
            "layout": "IPY_MODEL_9ddda59ca78d41338a1cb6c072fbec82",
            "max": 48,
            "min": 0,
            "orientation": "horizontal",
            "style": "IPY_MODEL_cea45b3c00344627ae853667470e029e",
            "value": 48
          }
        },
        "2138b2fb1a0344ae9e63d0b6f81060f9": {
          "model_module": "@jupyter-widgets/controls",
          "model_name": "HTMLModel",
          "model_module_version": "1.5.0",
          "state": {
            "_dom_classes": [],
            "_model_module": "@jupyter-widgets/controls",
            "_model_module_version": "1.5.0",
            "_model_name": "HTMLModel",
            "_view_count": null,
            "_view_module": "@jupyter-widgets/controls",
            "_view_module_version": "1.5.0",
            "_view_name": "HTMLView",
            "description": "",
            "description_tooltip": null,
            "layout": "IPY_MODEL_76c0eb88cc3f4c8c80030e1f7eb0c0e1",
            "placeholder": "​",
            "style": "IPY_MODEL_f9e85c2eb7c54d41a4bb197a05897a27",
            "value": " 48.0/48.0 [00:00&lt;00:00, 1.32kB/s]"
          }
        },
        "4c70b6b2bff644b696dcad4ac1e94828": {
          "model_module": "@jupyter-widgets/base",
          "model_name": "LayoutModel",
          "model_module_version": "1.2.0",
          "state": {
            "_model_module": "@jupyter-widgets/base",
            "_model_module_version": "1.2.0",
            "_model_name": "LayoutModel",
            "_view_count": null,
            "_view_module": "@jupyter-widgets/base",
            "_view_module_version": "1.2.0",
            "_view_name": "LayoutView",
            "align_content": null,
            "align_items": null,
            "align_self": null,
            "border": null,
            "bottom": null,
            "display": null,
            "flex": null,
            "flex_flow": null,
            "grid_area": null,
            "grid_auto_columns": null,
            "grid_auto_flow": null,
            "grid_auto_rows": null,
            "grid_column": null,
            "grid_gap": null,
            "grid_row": null,
            "grid_template_areas": null,
            "grid_template_columns": null,
            "grid_template_rows": null,
            "height": null,
            "justify_content": null,
            "justify_items": null,
            "left": null,
            "margin": null,
            "max_height": null,
            "max_width": null,
            "min_height": null,
            "min_width": null,
            "object_fit": null,
            "object_position": null,
            "order": null,
            "overflow": null,
            "overflow_x": null,
            "overflow_y": null,
            "padding": null,
            "right": null,
            "top": null,
            "visibility": null,
            "width": null
          }
        },
        "8e13d753ddd54fcf99f3d4e4c8d5e09d": {
          "model_module": "@jupyter-widgets/base",
          "model_name": "LayoutModel",
          "model_module_version": "1.2.0",
          "state": {
            "_model_module": "@jupyter-widgets/base",
            "_model_module_version": "1.2.0",
            "_model_name": "LayoutModel",
            "_view_count": null,
            "_view_module": "@jupyter-widgets/base",
            "_view_module_version": "1.2.0",
            "_view_name": "LayoutView",
            "align_content": null,
            "align_items": null,
            "align_self": null,
            "border": null,
            "bottom": null,
            "display": null,
            "flex": null,
            "flex_flow": null,
            "grid_area": null,
            "grid_auto_columns": null,
            "grid_auto_flow": null,
            "grid_auto_rows": null,
            "grid_column": null,
            "grid_gap": null,
            "grid_row": null,
            "grid_template_areas": null,
            "grid_template_columns": null,
            "grid_template_rows": null,
            "height": null,
            "justify_content": null,
            "justify_items": null,
            "left": null,
            "margin": null,
            "max_height": null,
            "max_width": null,
            "min_height": null,
            "min_width": null,
            "object_fit": null,
            "object_position": null,
            "order": null,
            "overflow": null,
            "overflow_x": null,
            "overflow_y": null,
            "padding": null,
            "right": null,
            "top": null,
            "visibility": null,
            "width": null
          }
        },
        "ea29a5f3d5d74844b7dda3b535923fe1": {
          "model_module": "@jupyter-widgets/controls",
          "model_name": "DescriptionStyleModel",
          "model_module_version": "1.5.0",
          "state": {
            "_model_module": "@jupyter-widgets/controls",
            "_model_module_version": "1.5.0",
            "_model_name": "DescriptionStyleModel",
            "_view_count": null,
            "_view_module": "@jupyter-widgets/base",
            "_view_module_version": "1.2.0",
            "_view_name": "StyleView",
            "description_width": ""
          }
        },
        "9ddda59ca78d41338a1cb6c072fbec82": {
          "model_module": "@jupyter-widgets/base",
          "model_name": "LayoutModel",
          "model_module_version": "1.2.0",
          "state": {
            "_model_module": "@jupyter-widgets/base",
            "_model_module_version": "1.2.0",
            "_model_name": "LayoutModel",
            "_view_count": null,
            "_view_module": "@jupyter-widgets/base",
            "_view_module_version": "1.2.0",
            "_view_name": "LayoutView",
            "align_content": null,
            "align_items": null,
            "align_self": null,
            "border": null,
            "bottom": null,
            "display": null,
            "flex": null,
            "flex_flow": null,
            "grid_area": null,
            "grid_auto_columns": null,
            "grid_auto_flow": null,
            "grid_auto_rows": null,
            "grid_column": null,
            "grid_gap": null,
            "grid_row": null,
            "grid_template_areas": null,
            "grid_template_columns": null,
            "grid_template_rows": null,
            "height": null,
            "justify_content": null,
            "justify_items": null,
            "left": null,
            "margin": null,
            "max_height": null,
            "max_width": null,
            "min_height": null,
            "min_width": null,
            "object_fit": null,
            "object_position": null,
            "order": null,
            "overflow": null,
            "overflow_x": null,
            "overflow_y": null,
            "padding": null,
            "right": null,
            "top": null,
            "visibility": null,
            "width": null
          }
        },
        "cea45b3c00344627ae853667470e029e": {
          "model_module": "@jupyter-widgets/controls",
          "model_name": "ProgressStyleModel",
          "model_module_version": "1.5.0",
          "state": {
            "_model_module": "@jupyter-widgets/controls",
            "_model_module_version": "1.5.0",
            "_model_name": "ProgressStyleModel",
            "_view_count": null,
            "_view_module": "@jupyter-widgets/base",
            "_view_module_version": "1.2.0",
            "_view_name": "StyleView",
            "bar_color": null,
            "description_width": ""
          }
        },
        "76c0eb88cc3f4c8c80030e1f7eb0c0e1": {
          "model_module": "@jupyter-widgets/base",
          "model_name": "LayoutModel",
          "model_module_version": "1.2.0",
          "state": {
            "_model_module": "@jupyter-widgets/base",
            "_model_module_version": "1.2.0",
            "_model_name": "LayoutModel",
            "_view_count": null,
            "_view_module": "@jupyter-widgets/base",
            "_view_module_version": "1.2.0",
            "_view_name": "LayoutView",
            "align_content": null,
            "align_items": null,
            "align_self": null,
            "border": null,
            "bottom": null,
            "display": null,
            "flex": null,
            "flex_flow": null,
            "grid_area": null,
            "grid_auto_columns": null,
            "grid_auto_flow": null,
            "grid_auto_rows": null,
            "grid_column": null,
            "grid_gap": null,
            "grid_row": null,
            "grid_template_areas": null,
            "grid_template_columns": null,
            "grid_template_rows": null,
            "height": null,
            "justify_content": null,
            "justify_items": null,
            "left": null,
            "margin": null,
            "max_height": null,
            "max_width": null,
            "min_height": null,
            "min_width": null,
            "object_fit": null,
            "object_position": null,
            "order": null,
            "overflow": null,
            "overflow_x": null,
            "overflow_y": null,
            "padding": null,
            "right": null,
            "top": null,
            "visibility": null,
            "width": null
          }
        },
        "f9e85c2eb7c54d41a4bb197a05897a27": {
          "model_module": "@jupyter-widgets/controls",
          "model_name": "DescriptionStyleModel",
          "model_module_version": "1.5.0",
          "state": {
            "_model_module": "@jupyter-widgets/controls",
            "_model_module_version": "1.5.0",
            "_model_name": "DescriptionStyleModel",
            "_view_count": null,
            "_view_module": "@jupyter-widgets/base",
            "_view_module_version": "1.2.0",
            "_view_name": "StyleView",
            "description_width": ""
          }
        },
        "ef1f248571374b44bea563a9eebf15bf": {
          "model_module": "@jupyter-widgets/controls",
          "model_name": "HBoxModel",
          "model_module_version": "1.5.0",
          "state": {
            "_dom_classes": [],
            "_model_module": "@jupyter-widgets/controls",
            "_model_module_version": "1.5.0",
            "_model_name": "HBoxModel",
            "_view_count": null,
            "_view_module": "@jupyter-widgets/controls",
            "_view_module_version": "1.5.0",
            "_view_name": "HBoxView",
            "box_style": "",
            "children": [
              "IPY_MODEL_2c917a68b2804153815bb77724cce1fa",
              "IPY_MODEL_1a7cff16d02d4fb9bf159ff5257a2d51",
              "IPY_MODEL_0deee9d7fe4249c58a454f169738088a"
            ],
            "layout": "IPY_MODEL_fe27f4acf1ff42e6a4cf3ff03369c5c1"
          }
        },
        "2c917a68b2804153815bb77724cce1fa": {
          "model_module": "@jupyter-widgets/controls",
          "model_name": "HTMLModel",
          "model_module_version": "1.5.0",
          "state": {
            "_dom_classes": [],
            "_model_module": "@jupyter-widgets/controls",
            "_model_module_version": "1.5.0",
            "_model_name": "HTMLModel",
            "_view_count": null,
            "_view_module": "@jupyter-widgets/controls",
            "_view_module_version": "1.5.0",
            "_view_name": "HTMLView",
            "description": "",
            "description_tooltip": null,
            "layout": "IPY_MODEL_ba427e9cbd284b3c8dee8e957275111b",
            "placeholder": "​",
            "style": "IPY_MODEL_e4048a4b8f5e43aaa0532afafe2e0770",
            "value": "config.json: 100%"
          }
        },
        "1a7cff16d02d4fb9bf159ff5257a2d51": {
          "model_module": "@jupyter-widgets/controls",
          "model_name": "FloatProgressModel",
          "model_module_version": "1.5.0",
          "state": {
            "_dom_classes": [],
            "_model_module": "@jupyter-widgets/controls",
            "_model_module_version": "1.5.0",
            "_model_name": "FloatProgressModel",
            "_view_count": null,
            "_view_module": "@jupyter-widgets/controls",
            "_view_module_version": "1.5.0",
            "_view_name": "ProgressView",
            "bar_style": "success",
            "description": "",
            "description_tooltip": null,
            "layout": "IPY_MODEL_1efe98431dc04e9080e944bd1b00d22d",
            "max": 570,
            "min": 0,
            "orientation": "horizontal",
            "style": "IPY_MODEL_fe65cd8a78eb41ceb244975cdd431ae6",
            "value": 570
          }
        },
        "0deee9d7fe4249c58a454f169738088a": {
          "model_module": "@jupyter-widgets/controls",
          "model_name": "HTMLModel",
          "model_module_version": "1.5.0",
          "state": {
            "_dom_classes": [],
            "_model_module": "@jupyter-widgets/controls",
            "_model_module_version": "1.5.0",
            "_model_name": "HTMLModel",
            "_view_count": null,
            "_view_module": "@jupyter-widgets/controls",
            "_view_module_version": "1.5.0",
            "_view_name": "HTMLView",
            "description": "",
            "description_tooltip": null,
            "layout": "IPY_MODEL_00982c3cabe04744a3aea9b1f31db8e2",
            "placeholder": "​",
            "style": "IPY_MODEL_a34dfa2426e748a293b7808e629a1407",
            "value": " 570/570 [00:00&lt;00:00, 32.4kB/s]"
          }
        },
        "fe27f4acf1ff42e6a4cf3ff03369c5c1": {
          "model_module": "@jupyter-widgets/base",
          "model_name": "LayoutModel",
          "model_module_version": "1.2.0",
          "state": {
            "_model_module": "@jupyter-widgets/base",
            "_model_module_version": "1.2.0",
            "_model_name": "LayoutModel",
            "_view_count": null,
            "_view_module": "@jupyter-widgets/base",
            "_view_module_version": "1.2.0",
            "_view_name": "LayoutView",
            "align_content": null,
            "align_items": null,
            "align_self": null,
            "border": null,
            "bottom": null,
            "display": null,
            "flex": null,
            "flex_flow": null,
            "grid_area": null,
            "grid_auto_columns": null,
            "grid_auto_flow": null,
            "grid_auto_rows": null,
            "grid_column": null,
            "grid_gap": null,
            "grid_row": null,
            "grid_template_areas": null,
            "grid_template_columns": null,
            "grid_template_rows": null,
            "height": null,
            "justify_content": null,
            "justify_items": null,
            "left": null,
            "margin": null,
            "max_height": null,
            "max_width": null,
            "min_height": null,
            "min_width": null,
            "object_fit": null,
            "object_position": null,
            "order": null,
            "overflow": null,
            "overflow_x": null,
            "overflow_y": null,
            "padding": null,
            "right": null,
            "top": null,
            "visibility": null,
            "width": null
          }
        },
        "ba427e9cbd284b3c8dee8e957275111b": {
          "model_module": "@jupyter-widgets/base",
          "model_name": "LayoutModel",
          "model_module_version": "1.2.0",
          "state": {
            "_model_module": "@jupyter-widgets/base",
            "_model_module_version": "1.2.0",
            "_model_name": "LayoutModel",
            "_view_count": null,
            "_view_module": "@jupyter-widgets/base",
            "_view_module_version": "1.2.0",
            "_view_name": "LayoutView",
            "align_content": null,
            "align_items": null,
            "align_self": null,
            "border": null,
            "bottom": null,
            "display": null,
            "flex": null,
            "flex_flow": null,
            "grid_area": null,
            "grid_auto_columns": null,
            "grid_auto_flow": null,
            "grid_auto_rows": null,
            "grid_column": null,
            "grid_gap": null,
            "grid_row": null,
            "grid_template_areas": null,
            "grid_template_columns": null,
            "grid_template_rows": null,
            "height": null,
            "justify_content": null,
            "justify_items": null,
            "left": null,
            "margin": null,
            "max_height": null,
            "max_width": null,
            "min_height": null,
            "min_width": null,
            "object_fit": null,
            "object_position": null,
            "order": null,
            "overflow": null,
            "overflow_x": null,
            "overflow_y": null,
            "padding": null,
            "right": null,
            "top": null,
            "visibility": null,
            "width": null
          }
        },
        "e4048a4b8f5e43aaa0532afafe2e0770": {
          "model_module": "@jupyter-widgets/controls",
          "model_name": "DescriptionStyleModel",
          "model_module_version": "1.5.0",
          "state": {
            "_model_module": "@jupyter-widgets/controls",
            "_model_module_version": "1.5.0",
            "_model_name": "DescriptionStyleModel",
            "_view_count": null,
            "_view_module": "@jupyter-widgets/base",
            "_view_module_version": "1.2.0",
            "_view_name": "StyleView",
            "description_width": ""
          }
        },
        "1efe98431dc04e9080e944bd1b00d22d": {
          "model_module": "@jupyter-widgets/base",
          "model_name": "LayoutModel",
          "model_module_version": "1.2.0",
          "state": {
            "_model_module": "@jupyter-widgets/base",
            "_model_module_version": "1.2.0",
            "_model_name": "LayoutModel",
            "_view_count": null,
            "_view_module": "@jupyter-widgets/base",
            "_view_module_version": "1.2.0",
            "_view_name": "LayoutView",
            "align_content": null,
            "align_items": null,
            "align_self": null,
            "border": null,
            "bottom": null,
            "display": null,
            "flex": null,
            "flex_flow": null,
            "grid_area": null,
            "grid_auto_columns": null,
            "grid_auto_flow": null,
            "grid_auto_rows": null,
            "grid_column": null,
            "grid_gap": null,
            "grid_row": null,
            "grid_template_areas": null,
            "grid_template_columns": null,
            "grid_template_rows": null,
            "height": null,
            "justify_content": null,
            "justify_items": null,
            "left": null,
            "margin": null,
            "max_height": null,
            "max_width": null,
            "min_height": null,
            "min_width": null,
            "object_fit": null,
            "object_position": null,
            "order": null,
            "overflow": null,
            "overflow_x": null,
            "overflow_y": null,
            "padding": null,
            "right": null,
            "top": null,
            "visibility": null,
            "width": null
          }
        },
        "fe65cd8a78eb41ceb244975cdd431ae6": {
          "model_module": "@jupyter-widgets/controls",
          "model_name": "ProgressStyleModel",
          "model_module_version": "1.5.0",
          "state": {
            "_model_module": "@jupyter-widgets/controls",
            "_model_module_version": "1.5.0",
            "_model_name": "ProgressStyleModel",
            "_view_count": null,
            "_view_module": "@jupyter-widgets/base",
            "_view_module_version": "1.2.0",
            "_view_name": "StyleView",
            "bar_color": null,
            "description_width": ""
          }
        },
        "00982c3cabe04744a3aea9b1f31db8e2": {
          "model_module": "@jupyter-widgets/base",
          "model_name": "LayoutModel",
          "model_module_version": "1.2.0",
          "state": {
            "_model_module": "@jupyter-widgets/base",
            "_model_module_version": "1.2.0",
            "_model_name": "LayoutModel",
            "_view_count": null,
            "_view_module": "@jupyter-widgets/base",
            "_view_module_version": "1.2.0",
            "_view_name": "LayoutView",
            "align_content": null,
            "align_items": null,
            "align_self": null,
            "border": null,
            "bottom": null,
            "display": null,
            "flex": null,
            "flex_flow": null,
            "grid_area": null,
            "grid_auto_columns": null,
            "grid_auto_flow": null,
            "grid_auto_rows": null,
            "grid_column": null,
            "grid_gap": null,
            "grid_row": null,
            "grid_template_areas": null,
            "grid_template_columns": null,
            "grid_template_rows": null,
            "height": null,
            "justify_content": null,
            "justify_items": null,
            "left": null,
            "margin": null,
            "max_height": null,
            "max_width": null,
            "min_height": null,
            "min_width": null,
            "object_fit": null,
            "object_position": null,
            "order": null,
            "overflow": null,
            "overflow_x": null,
            "overflow_y": null,
            "padding": null,
            "right": null,
            "top": null,
            "visibility": null,
            "width": null
          }
        },
        "a34dfa2426e748a293b7808e629a1407": {
          "model_module": "@jupyter-widgets/controls",
          "model_name": "DescriptionStyleModel",
          "model_module_version": "1.5.0",
          "state": {
            "_model_module": "@jupyter-widgets/controls",
            "_model_module_version": "1.5.0",
            "_model_name": "DescriptionStyleModel",
            "_view_count": null,
            "_view_module": "@jupyter-widgets/base",
            "_view_module_version": "1.2.0",
            "_view_name": "StyleView",
            "description_width": ""
          }
        },
        "d3bbc54699d74f9b997efc6c97d360aa": {
          "model_module": "@jupyter-widgets/controls",
          "model_name": "HBoxModel",
          "model_module_version": "1.5.0",
          "state": {
            "_dom_classes": [],
            "_model_module": "@jupyter-widgets/controls",
            "_model_module_version": "1.5.0",
            "_model_name": "HBoxModel",
            "_view_count": null,
            "_view_module": "@jupyter-widgets/controls",
            "_view_module_version": "1.5.0",
            "_view_name": "HBoxView",
            "box_style": "",
            "children": [
              "IPY_MODEL_b57c2896dcaa467a8e3825d00b91e720",
              "IPY_MODEL_e4e9233522234df899f5bab0977ff4a7",
              "IPY_MODEL_01a1843022114e2488e554effa36ecb3"
            ],
            "layout": "IPY_MODEL_2b5b6e1207aa4bfab8c0152b38397373"
          }
        },
        "b57c2896dcaa467a8e3825d00b91e720": {
          "model_module": "@jupyter-widgets/controls",
          "model_name": "HTMLModel",
          "model_module_version": "1.5.0",
          "state": {
            "_dom_classes": [],
            "_model_module": "@jupyter-widgets/controls",
            "_model_module_version": "1.5.0",
            "_model_name": "HTMLModel",
            "_view_count": null,
            "_view_module": "@jupyter-widgets/controls",
            "_view_module_version": "1.5.0",
            "_view_name": "HTMLView",
            "description": "",
            "description_tooltip": null,
            "layout": "IPY_MODEL_ec8bde58a14f48389d14248762a6de5f",
            "placeholder": "​",
            "style": "IPY_MODEL_8bef12c1f1fc43c49b1df3e5d4866ab9",
            "value": "vocab.txt: 100%"
          }
        },
        "e4e9233522234df899f5bab0977ff4a7": {
          "model_module": "@jupyter-widgets/controls",
          "model_name": "FloatProgressModel",
          "model_module_version": "1.5.0",
          "state": {
            "_dom_classes": [],
            "_model_module": "@jupyter-widgets/controls",
            "_model_module_version": "1.5.0",
            "_model_name": "FloatProgressModel",
            "_view_count": null,
            "_view_module": "@jupyter-widgets/controls",
            "_view_module_version": "1.5.0",
            "_view_name": "ProgressView",
            "bar_style": "success",
            "description": "",
            "description_tooltip": null,
            "layout": "IPY_MODEL_b8d68f9c2a094c7b9a5dd9120287f794",
            "max": 231508,
            "min": 0,
            "orientation": "horizontal",
            "style": "IPY_MODEL_dbbbec229368425f95933b6f1c12ebe5",
            "value": 231508
          }
        },
        "01a1843022114e2488e554effa36ecb3": {
          "model_module": "@jupyter-widgets/controls",
          "model_name": "HTMLModel",
          "model_module_version": "1.5.0",
          "state": {
            "_dom_classes": [],
            "_model_module": "@jupyter-widgets/controls",
            "_model_module_version": "1.5.0",
            "_model_name": "HTMLModel",
            "_view_count": null,
            "_view_module": "@jupyter-widgets/controls",
            "_view_module_version": "1.5.0",
            "_view_name": "HTMLView",
            "description": "",
            "description_tooltip": null,
            "layout": "IPY_MODEL_3a688f223be7406d9bdafa1a8a75fb27",
            "placeholder": "​",
            "style": "IPY_MODEL_8a6aabc431394648ba2e96e00d31557a",
            "value": " 232k/232k [00:00&lt;00:00, 2.91MB/s]"
          }
        },
        "2b5b6e1207aa4bfab8c0152b38397373": {
          "model_module": "@jupyter-widgets/base",
          "model_name": "LayoutModel",
          "model_module_version": "1.2.0",
          "state": {
            "_model_module": "@jupyter-widgets/base",
            "_model_module_version": "1.2.0",
            "_model_name": "LayoutModel",
            "_view_count": null,
            "_view_module": "@jupyter-widgets/base",
            "_view_module_version": "1.2.0",
            "_view_name": "LayoutView",
            "align_content": null,
            "align_items": null,
            "align_self": null,
            "border": null,
            "bottom": null,
            "display": null,
            "flex": null,
            "flex_flow": null,
            "grid_area": null,
            "grid_auto_columns": null,
            "grid_auto_flow": null,
            "grid_auto_rows": null,
            "grid_column": null,
            "grid_gap": null,
            "grid_row": null,
            "grid_template_areas": null,
            "grid_template_columns": null,
            "grid_template_rows": null,
            "height": null,
            "justify_content": null,
            "justify_items": null,
            "left": null,
            "margin": null,
            "max_height": null,
            "max_width": null,
            "min_height": null,
            "min_width": null,
            "object_fit": null,
            "object_position": null,
            "order": null,
            "overflow": null,
            "overflow_x": null,
            "overflow_y": null,
            "padding": null,
            "right": null,
            "top": null,
            "visibility": null,
            "width": null
          }
        },
        "ec8bde58a14f48389d14248762a6de5f": {
          "model_module": "@jupyter-widgets/base",
          "model_name": "LayoutModel",
          "model_module_version": "1.2.0",
          "state": {
            "_model_module": "@jupyter-widgets/base",
            "_model_module_version": "1.2.0",
            "_model_name": "LayoutModel",
            "_view_count": null,
            "_view_module": "@jupyter-widgets/base",
            "_view_module_version": "1.2.0",
            "_view_name": "LayoutView",
            "align_content": null,
            "align_items": null,
            "align_self": null,
            "border": null,
            "bottom": null,
            "display": null,
            "flex": null,
            "flex_flow": null,
            "grid_area": null,
            "grid_auto_columns": null,
            "grid_auto_flow": null,
            "grid_auto_rows": null,
            "grid_column": null,
            "grid_gap": null,
            "grid_row": null,
            "grid_template_areas": null,
            "grid_template_columns": null,
            "grid_template_rows": null,
            "height": null,
            "justify_content": null,
            "justify_items": null,
            "left": null,
            "margin": null,
            "max_height": null,
            "max_width": null,
            "min_height": null,
            "min_width": null,
            "object_fit": null,
            "object_position": null,
            "order": null,
            "overflow": null,
            "overflow_x": null,
            "overflow_y": null,
            "padding": null,
            "right": null,
            "top": null,
            "visibility": null,
            "width": null
          }
        },
        "8bef12c1f1fc43c49b1df3e5d4866ab9": {
          "model_module": "@jupyter-widgets/controls",
          "model_name": "DescriptionStyleModel",
          "model_module_version": "1.5.0",
          "state": {
            "_model_module": "@jupyter-widgets/controls",
            "_model_module_version": "1.5.0",
            "_model_name": "DescriptionStyleModel",
            "_view_count": null,
            "_view_module": "@jupyter-widgets/base",
            "_view_module_version": "1.2.0",
            "_view_name": "StyleView",
            "description_width": ""
          }
        },
        "b8d68f9c2a094c7b9a5dd9120287f794": {
          "model_module": "@jupyter-widgets/base",
          "model_name": "LayoutModel",
          "model_module_version": "1.2.0",
          "state": {
            "_model_module": "@jupyter-widgets/base",
            "_model_module_version": "1.2.0",
            "_model_name": "LayoutModel",
            "_view_count": null,
            "_view_module": "@jupyter-widgets/base",
            "_view_module_version": "1.2.0",
            "_view_name": "LayoutView",
            "align_content": null,
            "align_items": null,
            "align_self": null,
            "border": null,
            "bottom": null,
            "display": null,
            "flex": null,
            "flex_flow": null,
            "grid_area": null,
            "grid_auto_columns": null,
            "grid_auto_flow": null,
            "grid_auto_rows": null,
            "grid_column": null,
            "grid_gap": null,
            "grid_row": null,
            "grid_template_areas": null,
            "grid_template_columns": null,
            "grid_template_rows": null,
            "height": null,
            "justify_content": null,
            "justify_items": null,
            "left": null,
            "margin": null,
            "max_height": null,
            "max_width": null,
            "min_height": null,
            "min_width": null,
            "object_fit": null,
            "object_position": null,
            "order": null,
            "overflow": null,
            "overflow_x": null,
            "overflow_y": null,
            "padding": null,
            "right": null,
            "top": null,
            "visibility": null,
            "width": null
          }
        },
        "dbbbec229368425f95933b6f1c12ebe5": {
          "model_module": "@jupyter-widgets/controls",
          "model_name": "ProgressStyleModel",
          "model_module_version": "1.5.0",
          "state": {
            "_model_module": "@jupyter-widgets/controls",
            "_model_module_version": "1.5.0",
            "_model_name": "ProgressStyleModel",
            "_view_count": null,
            "_view_module": "@jupyter-widgets/base",
            "_view_module_version": "1.2.0",
            "_view_name": "StyleView",
            "bar_color": null,
            "description_width": ""
          }
        },
        "3a688f223be7406d9bdafa1a8a75fb27": {
          "model_module": "@jupyter-widgets/base",
          "model_name": "LayoutModel",
          "model_module_version": "1.2.0",
          "state": {
            "_model_module": "@jupyter-widgets/base",
            "_model_module_version": "1.2.0",
            "_model_name": "LayoutModel",
            "_view_count": null,
            "_view_module": "@jupyter-widgets/base",
            "_view_module_version": "1.2.0",
            "_view_name": "LayoutView",
            "align_content": null,
            "align_items": null,
            "align_self": null,
            "border": null,
            "bottom": null,
            "display": null,
            "flex": null,
            "flex_flow": null,
            "grid_area": null,
            "grid_auto_columns": null,
            "grid_auto_flow": null,
            "grid_auto_rows": null,
            "grid_column": null,
            "grid_gap": null,
            "grid_row": null,
            "grid_template_areas": null,
            "grid_template_columns": null,
            "grid_template_rows": null,
            "height": null,
            "justify_content": null,
            "justify_items": null,
            "left": null,
            "margin": null,
            "max_height": null,
            "max_width": null,
            "min_height": null,
            "min_width": null,
            "object_fit": null,
            "object_position": null,
            "order": null,
            "overflow": null,
            "overflow_x": null,
            "overflow_y": null,
            "padding": null,
            "right": null,
            "top": null,
            "visibility": null,
            "width": null
          }
        },
        "8a6aabc431394648ba2e96e00d31557a": {
          "model_module": "@jupyter-widgets/controls",
          "model_name": "DescriptionStyleModel",
          "model_module_version": "1.5.0",
          "state": {
            "_model_module": "@jupyter-widgets/controls",
            "_model_module_version": "1.5.0",
            "_model_name": "DescriptionStyleModel",
            "_view_count": null,
            "_view_module": "@jupyter-widgets/base",
            "_view_module_version": "1.2.0",
            "_view_name": "StyleView",
            "description_width": ""
          }
        },
        "81cf542f5f414aa9ac8545db672165d6": {
          "model_module": "@jupyter-widgets/controls",
          "model_name": "HBoxModel",
          "model_module_version": "1.5.0",
          "state": {
            "_dom_classes": [],
            "_model_module": "@jupyter-widgets/controls",
            "_model_module_version": "1.5.0",
            "_model_name": "HBoxModel",
            "_view_count": null,
            "_view_module": "@jupyter-widgets/controls",
            "_view_module_version": "1.5.0",
            "_view_name": "HBoxView",
            "box_style": "",
            "children": [
              "IPY_MODEL_b69c8bb93a844e54bd97bb39b242f276",
              "IPY_MODEL_3186b8f5ac514fdda17a4c5efa3f1f6a",
              "IPY_MODEL_1b0345b24f154f56b5d64f098483a1c0"
            ],
            "layout": "IPY_MODEL_fe1ead2af3eb40e7a8c405f18b6e1d3d"
          }
        },
        "b69c8bb93a844e54bd97bb39b242f276": {
          "model_module": "@jupyter-widgets/controls",
          "model_name": "HTMLModel",
          "model_module_version": "1.5.0",
          "state": {
            "_dom_classes": [],
            "_model_module": "@jupyter-widgets/controls",
            "_model_module_version": "1.5.0",
            "_model_name": "HTMLModel",
            "_view_count": null,
            "_view_module": "@jupyter-widgets/controls",
            "_view_module_version": "1.5.0",
            "_view_name": "HTMLView",
            "description": "",
            "description_tooltip": null,
            "layout": "IPY_MODEL_90e786efbd674bf08374364cbb8c4444",
            "placeholder": "​",
            "style": "IPY_MODEL_772b6b4f77534632a294b1467239d399",
            "value": "tokenizer.json: 100%"
          }
        },
        "3186b8f5ac514fdda17a4c5efa3f1f6a": {
          "model_module": "@jupyter-widgets/controls",
          "model_name": "FloatProgressModel",
          "model_module_version": "1.5.0",
          "state": {
            "_dom_classes": [],
            "_model_module": "@jupyter-widgets/controls",
            "_model_module_version": "1.5.0",
            "_model_name": "FloatProgressModel",
            "_view_count": null,
            "_view_module": "@jupyter-widgets/controls",
            "_view_module_version": "1.5.0",
            "_view_name": "ProgressView",
            "bar_style": "success",
            "description": "",
            "description_tooltip": null,
            "layout": "IPY_MODEL_86d0c6913f7d4841bdd20015b6505bc1",
            "max": 466062,
            "min": 0,
            "orientation": "horizontal",
            "style": "IPY_MODEL_e5661e5d4cb94ee88f16fbebb7d580b2",
            "value": 466062
          }
        },
        "1b0345b24f154f56b5d64f098483a1c0": {
          "model_module": "@jupyter-widgets/controls",
          "model_name": "HTMLModel",
          "model_module_version": "1.5.0",
          "state": {
            "_dom_classes": [],
            "_model_module": "@jupyter-widgets/controls",
            "_model_module_version": "1.5.0",
            "_model_name": "HTMLModel",
            "_view_count": null,
            "_view_module": "@jupyter-widgets/controls",
            "_view_module_version": "1.5.0",
            "_view_name": "HTMLView",
            "description": "",
            "description_tooltip": null,
            "layout": "IPY_MODEL_05222a6e7fe24ca2867f8e18ff650fac",
            "placeholder": "​",
            "style": "IPY_MODEL_cf2f08b14eb245989886dfecda1c0d86",
            "value": " 466k/466k [00:00&lt;00:00, 2.95MB/s]"
          }
        },
        "fe1ead2af3eb40e7a8c405f18b6e1d3d": {
          "model_module": "@jupyter-widgets/base",
          "model_name": "LayoutModel",
          "model_module_version": "1.2.0",
          "state": {
            "_model_module": "@jupyter-widgets/base",
            "_model_module_version": "1.2.0",
            "_model_name": "LayoutModel",
            "_view_count": null,
            "_view_module": "@jupyter-widgets/base",
            "_view_module_version": "1.2.0",
            "_view_name": "LayoutView",
            "align_content": null,
            "align_items": null,
            "align_self": null,
            "border": null,
            "bottom": null,
            "display": null,
            "flex": null,
            "flex_flow": null,
            "grid_area": null,
            "grid_auto_columns": null,
            "grid_auto_flow": null,
            "grid_auto_rows": null,
            "grid_column": null,
            "grid_gap": null,
            "grid_row": null,
            "grid_template_areas": null,
            "grid_template_columns": null,
            "grid_template_rows": null,
            "height": null,
            "justify_content": null,
            "justify_items": null,
            "left": null,
            "margin": null,
            "max_height": null,
            "max_width": null,
            "min_height": null,
            "min_width": null,
            "object_fit": null,
            "object_position": null,
            "order": null,
            "overflow": null,
            "overflow_x": null,
            "overflow_y": null,
            "padding": null,
            "right": null,
            "top": null,
            "visibility": null,
            "width": null
          }
        },
        "90e786efbd674bf08374364cbb8c4444": {
          "model_module": "@jupyter-widgets/base",
          "model_name": "LayoutModel",
          "model_module_version": "1.2.0",
          "state": {
            "_model_module": "@jupyter-widgets/base",
            "_model_module_version": "1.2.0",
            "_model_name": "LayoutModel",
            "_view_count": null,
            "_view_module": "@jupyter-widgets/base",
            "_view_module_version": "1.2.0",
            "_view_name": "LayoutView",
            "align_content": null,
            "align_items": null,
            "align_self": null,
            "border": null,
            "bottom": null,
            "display": null,
            "flex": null,
            "flex_flow": null,
            "grid_area": null,
            "grid_auto_columns": null,
            "grid_auto_flow": null,
            "grid_auto_rows": null,
            "grid_column": null,
            "grid_gap": null,
            "grid_row": null,
            "grid_template_areas": null,
            "grid_template_columns": null,
            "grid_template_rows": null,
            "height": null,
            "justify_content": null,
            "justify_items": null,
            "left": null,
            "margin": null,
            "max_height": null,
            "max_width": null,
            "min_height": null,
            "min_width": null,
            "object_fit": null,
            "object_position": null,
            "order": null,
            "overflow": null,
            "overflow_x": null,
            "overflow_y": null,
            "padding": null,
            "right": null,
            "top": null,
            "visibility": null,
            "width": null
          }
        },
        "772b6b4f77534632a294b1467239d399": {
          "model_module": "@jupyter-widgets/controls",
          "model_name": "DescriptionStyleModel",
          "model_module_version": "1.5.0",
          "state": {
            "_model_module": "@jupyter-widgets/controls",
            "_model_module_version": "1.5.0",
            "_model_name": "DescriptionStyleModel",
            "_view_count": null,
            "_view_module": "@jupyter-widgets/base",
            "_view_module_version": "1.2.0",
            "_view_name": "StyleView",
            "description_width": ""
          }
        },
        "86d0c6913f7d4841bdd20015b6505bc1": {
          "model_module": "@jupyter-widgets/base",
          "model_name": "LayoutModel",
          "model_module_version": "1.2.0",
          "state": {
            "_model_module": "@jupyter-widgets/base",
            "_model_module_version": "1.2.0",
            "_model_name": "LayoutModel",
            "_view_count": null,
            "_view_module": "@jupyter-widgets/base",
            "_view_module_version": "1.2.0",
            "_view_name": "LayoutView",
            "align_content": null,
            "align_items": null,
            "align_self": null,
            "border": null,
            "bottom": null,
            "display": null,
            "flex": null,
            "flex_flow": null,
            "grid_area": null,
            "grid_auto_columns": null,
            "grid_auto_flow": null,
            "grid_auto_rows": null,
            "grid_column": null,
            "grid_gap": null,
            "grid_row": null,
            "grid_template_areas": null,
            "grid_template_columns": null,
            "grid_template_rows": null,
            "height": null,
            "justify_content": null,
            "justify_items": null,
            "left": null,
            "margin": null,
            "max_height": null,
            "max_width": null,
            "min_height": null,
            "min_width": null,
            "object_fit": null,
            "object_position": null,
            "order": null,
            "overflow": null,
            "overflow_x": null,
            "overflow_y": null,
            "padding": null,
            "right": null,
            "top": null,
            "visibility": null,
            "width": null
          }
        },
        "e5661e5d4cb94ee88f16fbebb7d580b2": {
          "model_module": "@jupyter-widgets/controls",
          "model_name": "ProgressStyleModel",
          "model_module_version": "1.5.0",
          "state": {
            "_model_module": "@jupyter-widgets/controls",
            "_model_module_version": "1.5.0",
            "_model_name": "ProgressStyleModel",
            "_view_count": null,
            "_view_module": "@jupyter-widgets/base",
            "_view_module_version": "1.2.0",
            "_view_name": "StyleView",
            "bar_color": null,
            "description_width": ""
          }
        },
        "05222a6e7fe24ca2867f8e18ff650fac": {
          "model_module": "@jupyter-widgets/base",
          "model_name": "LayoutModel",
          "model_module_version": "1.2.0",
          "state": {
            "_model_module": "@jupyter-widgets/base",
            "_model_module_version": "1.2.0",
            "_model_name": "LayoutModel",
            "_view_count": null,
            "_view_module": "@jupyter-widgets/base",
            "_view_module_version": "1.2.0",
            "_view_name": "LayoutView",
            "align_content": null,
            "align_items": null,
            "align_self": null,
            "border": null,
            "bottom": null,
            "display": null,
            "flex": null,
            "flex_flow": null,
            "grid_area": null,
            "grid_auto_columns": null,
            "grid_auto_flow": null,
            "grid_auto_rows": null,
            "grid_column": null,
            "grid_gap": null,
            "grid_row": null,
            "grid_template_areas": null,
            "grid_template_columns": null,
            "grid_template_rows": null,
            "height": null,
            "justify_content": null,
            "justify_items": null,
            "left": null,
            "margin": null,
            "max_height": null,
            "max_width": null,
            "min_height": null,
            "min_width": null,
            "object_fit": null,
            "object_position": null,
            "order": null,
            "overflow": null,
            "overflow_x": null,
            "overflow_y": null,
            "padding": null,
            "right": null,
            "top": null,
            "visibility": null,
            "width": null
          }
        },
        "cf2f08b14eb245989886dfecda1c0d86": {
          "model_module": "@jupyter-widgets/controls",
          "model_name": "DescriptionStyleModel",
          "model_module_version": "1.5.0",
          "state": {
            "_model_module": "@jupyter-widgets/controls",
            "_model_module_version": "1.5.0",
            "_model_name": "DescriptionStyleModel",
            "_view_count": null,
            "_view_module": "@jupyter-widgets/base",
            "_view_module_version": "1.2.0",
            "_view_name": "StyleView",
            "description_width": ""
          }
        }
      }
    }
  },
  "nbformat": 4,
  "nbformat_minor": 0
}